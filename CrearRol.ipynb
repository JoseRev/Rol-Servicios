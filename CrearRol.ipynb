{
 "cells": [
  {
   "cell_type": "code",
   "execution_count": 120,
   "metadata": {},
   "outputs": [],
   "source": [
    "from calendar import monthrange\n",
    "from datetime import datetime\n",
    "import pandas as pd\n",
    "import locale, calendar\n",
    "from stat import S_IREAD, S_IRGRP, S_IROTH\n",
    "from styleframe import StyleFrame, Styler, utils\n",
    "import shutil"
   ]
  },
  {
   "cell_type": "code",
   "execution_count": 31,
   "metadata": {},
   "outputs": [
    {
     "data": {
      "text/plain": [
       "'es_ES'"
      ]
     },
     "execution_count": 31,
     "metadata": {},
     "output_type": "execute_result"
    }
   ],
   "source": [
    "locale.setlocale(locale.LC_ALL, 'es_ES')"
   ]
  },
  {
   "cell_type": "code",
   "execution_count": 105,
   "metadata": {},
   "outputs": [
    {
     "name": "stdout",
     "output_type": "stream",
     "text": [
      "['01\\ndo.', '02\\nlu.', '03\\nma.', '04\\nmi.', '05\\nju.', '06\\nvi.', '07\\nsá.', '08\\ndo.', '09\\nlu.', '10\\nma.', '11\\nmi.', '12\\nju.', '13\\nvi.', '14\\nsá.', '15\\ndo.', '16\\nlu.', '17\\nma.', '18\\nmi.', '19\\nju.', '20\\nvi.', '21\\nsá.', '22\\ndo.', '23\\nlu.', '24\\nma.', '25\\nmi.', '26\\nju.', '27\\nvi.', '28\\nsá.', '29\\ndo.', '30\\nlu.']\n"
     ]
    }
   ],
   "source": [
    "mes=11\n",
    "año=2020\n",
    "diasMes=[datetime(año, mes, x+1).strftime(\"%d\\n%a\") for x in range(monthrange(año,mes)[1])]\n",
    "print(diasMes)"
   ]
  },
  {
   "cell_type": "code",
   "execution_count": 106,
   "metadata": {},
   "outputs": [],
   "source": [
    "oficiales=['Bere', 'Alcantar','Mendoza','Charly']"
   ]
  },
  {
   "cell_type": "code",
   "execution_count": null,
   "metadata": {},
   "outputs": [],
   "source": []
  },
  {
   "cell_type": "code",
   "execution_count": null,
   "metadata": {},
   "outputs": [],
   "source": []
  },
  {
   "cell_type": "code",
   "execution_count": 119,
   "metadata": {},
   "outputs": [
    {
     "data": {
      "text/html": [
       "<div>\n",
       "<style scoped>\n",
       "    .dataframe tbody tr th:only-of-type {\n",
       "        vertical-align: middle;\n",
       "    }\n",
       "\n",
       "    .dataframe tbody tr th {\n",
       "        vertical-align: top;\n",
       "    }\n",
       "\n",
       "    .dataframe thead th {\n",
       "        text-align: right;\n",
       "    }\n",
       "</style>\n",
       "<table border=\"1\" class=\"dataframe\">\n",
       "  <thead>\n",
       "    <tr style=\"text-align: right;\">\n",
       "      <th></th>\n",
       "      <th>Oficiales</th>\n",
       "      <th>01\\ndo.</th>\n",
       "      <th>02\\nlu.</th>\n",
       "      <th>03\\nma.</th>\n",
       "      <th>04\\nmi.</th>\n",
       "      <th>05\\nju.</th>\n",
       "      <th>06\\nvi.</th>\n",
       "      <th>07\\nsá.</th>\n",
       "      <th>08\\ndo.</th>\n",
       "      <th>09\\nlu.</th>\n",
       "      <th>...</th>\n",
       "      <th>21\\nsá.</th>\n",
       "      <th>22\\ndo.</th>\n",
       "      <th>23\\nlu.</th>\n",
       "      <th>24\\nma.</th>\n",
       "      <th>25\\nmi.</th>\n",
       "      <th>26\\nju.</th>\n",
       "      <th>27\\nvi.</th>\n",
       "      <th>28\\nsá.</th>\n",
       "      <th>29\\ndo.</th>\n",
       "      <th>30\\nlu.</th>\n",
       "    </tr>\n",
       "  </thead>\n",
       "  <tbody>\n",
       "    <tr>\n",
       "      <th>0</th>\n",
       "      <td>Bere</td>\n",
       "      <td>NaN</td>\n",
       "      <td>NaN</td>\n",
       "      <td>NaN</td>\n",
       "      <td>NaN</td>\n",
       "      <td>NaN</td>\n",
       "      <td>NaN</td>\n",
       "      <td>NaN</td>\n",
       "      <td>NaN</td>\n",
       "      <td>NaN</td>\n",
       "      <td>...</td>\n",
       "      <td>NaN</td>\n",
       "      <td>NaN</td>\n",
       "      <td>NaN</td>\n",
       "      <td>NaN</td>\n",
       "      <td>NaN</td>\n",
       "      <td>NaN</td>\n",
       "      <td>C</td>\n",
       "      <td>NaN</td>\n",
       "      <td>NaN</td>\n",
       "      <td>NaN</td>\n",
       "    </tr>\n",
       "    <tr>\n",
       "      <th>1</th>\n",
       "      <td>Alcantar</td>\n",
       "      <td>C</td>\n",
       "      <td>NaN</td>\n",
       "      <td>NaN</td>\n",
       "      <td>NaN</td>\n",
       "      <td>NaN</td>\n",
       "      <td>NaN</td>\n",
       "      <td>NaN</td>\n",
       "      <td>NaN</td>\n",
       "      <td>NaN</td>\n",
       "      <td>...</td>\n",
       "      <td>NaN</td>\n",
       "      <td>NaN</td>\n",
       "      <td>NaN</td>\n",
       "      <td>NaN</td>\n",
       "      <td>NaN</td>\n",
       "      <td>NaN</td>\n",
       "      <td>NaN</td>\n",
       "      <td>NaN</td>\n",
       "      <td>NaN</td>\n",
       "      <td>NaN</td>\n",
       "    </tr>\n",
       "    <tr>\n",
       "      <th>2</th>\n",
       "      <td>Mendoza</td>\n",
       "      <td>NaN</td>\n",
       "      <td>NaN</td>\n",
       "      <td>C</td>\n",
       "      <td>NaN</td>\n",
       "      <td>NaN</td>\n",
       "      <td>NaN</td>\n",
       "      <td>NaN</td>\n",
       "      <td>NaN</td>\n",
       "      <td>NaN</td>\n",
       "      <td>...</td>\n",
       "      <td>NaN</td>\n",
       "      <td>NaN</td>\n",
       "      <td>NaN</td>\n",
       "      <td>NaN</td>\n",
       "      <td>NaN</td>\n",
       "      <td>NaN</td>\n",
       "      <td>NaN</td>\n",
       "      <td>NaN</td>\n",
       "      <td>NaN</td>\n",
       "      <td>NaN</td>\n",
       "    </tr>\n",
       "    <tr>\n",
       "      <th>3</th>\n",
       "      <td>Charly</td>\n",
       "      <td>NaN</td>\n",
       "      <td>NaN</td>\n",
       "      <td>NaN</td>\n",
       "      <td>NaN</td>\n",
       "      <td>NaN</td>\n",
       "      <td>NaN</td>\n",
       "      <td>NaN</td>\n",
       "      <td>NaN</td>\n",
       "      <td>NaN</td>\n",
       "      <td>...</td>\n",
       "      <td>NaN</td>\n",
       "      <td>C</td>\n",
       "      <td>NaN</td>\n",
       "      <td>NaN</td>\n",
       "      <td>NaN</td>\n",
       "      <td>NaN</td>\n",
       "      <td>NaN</td>\n",
       "      <td>NaN</td>\n",
       "      <td>NaN</td>\n",
       "      <td>NaN</td>\n",
       "    </tr>\n",
       "  </tbody>\n",
       "</table>\n",
       "<p>4 rows × 31 columns</p>\n",
       "</div>"
      ],
      "text/plain": [
       "  Oficiales 01\\ndo. 02\\nlu. 03\\nma. 04\\nmi. 05\\nju. 06\\nvi. 07\\nsá. 08\\ndo.  \\\n",
       "0      Bere     NaN     NaN     NaN     NaN     NaN     NaN     NaN     NaN   \n",
       "1  Alcantar       C     NaN     NaN     NaN     NaN     NaN     NaN     NaN   \n",
       "2   Mendoza     NaN     NaN       C     NaN     NaN     NaN     NaN     NaN   \n",
       "3    Charly     NaN     NaN     NaN     NaN     NaN     NaN     NaN     NaN   \n",
       "\n",
       "  09\\nlu.  ... 21\\nsá. 22\\ndo. 23\\nlu. 24\\nma. 25\\nmi. 26\\nju. 27\\nvi.  \\\n",
       "0     NaN  ...     NaN     NaN     NaN     NaN     NaN     NaN       C   \n",
       "1     NaN  ...     NaN     NaN     NaN     NaN     NaN     NaN     NaN   \n",
       "2     NaN  ...     NaN     NaN     NaN     NaN     NaN     NaN     NaN   \n",
       "3     NaN  ...     NaN       C     NaN     NaN     NaN     NaN     NaN   \n",
       "\n",
       "  28\\nsá. 29\\ndo. 30\\nlu.  \n",
       "0     NaN     NaN     NaN  \n",
       "1     NaN     NaN     NaN  \n",
       "2     NaN     NaN     NaN  \n",
       "3     NaN     NaN     NaN  \n",
       "\n",
       "[4 rows x 31 columns]"
      ]
     },
     "execution_count": 119,
     "metadata": {},
     "output_type": "execute_result"
    }
   ],
   "source": [
    "df=pd.DataFrame(columns=diasMes)\n",
    "#print(df)\n",
    "df.insert(0, column='Oficiales', value=oficiales)\n",
    "colocar_servicios(df)"
   ]
  },
  {
   "cell_type": "code",
   "execution_count": null,
   "metadata": {},
   "outputs": [],
   "source": []
  },
  {
   "cell_type": "code",
   "execution_count": 122,
   "metadata": {},
   "outputs": [],
   "source": [
    "sf=StyleFrame(df)\n",
    "sf.to_excel(excel_writer='Rol Dic.xlsx', best_fit=list(df.columns), index=False).save()"
   ]
  },
  {
   "cell_type": "code",
   "execution_count": 118,
   "metadata": {},
   "outputs": [],
   "source": [
    "def colocar_servicios(df):\n",
    "    Bere=[1,3,23]\n",
    "    Alcantar=[7,3]\n",
    "    Mendoza=[8]\n",
    "    df.iloc[1,1]='C'\n",
    "    df.iloc[2,3]='C'\n",
    "    df.iloc[3,22]='C'\n",
    "    df.iloc[0,27]='C'\n",
    "    return df"
   ]
  },
  {
   "cell_type": "code",
   "execution_count": null,
   "metadata": {},
   "outputs": [],
   "source": [
    "df=colocar_servicios(df)"
   ]
  },
  {
   "cell_type": "code",
   "execution_count": null,
   "metadata": {},
   "outputs": [],
   "source": []
  },
  {
   "cell_type": "code",
   "execution_count": null,
   "metadata": {},
   "outputs": [],
   "source": []
  }
 ],
 "metadata": {
  "kernelspec": {
   "display_name": "Python 3",
   "language": "python",
   "name": "python3"
  },
  "language_info": {
   "codemirror_mode": {
    "name": "ipython",
    "version": 3
   },
   "file_extension": ".py",
   "mimetype": "text/x-python",
   "name": "python",
   "nbconvert_exporter": "python",
   "pygments_lexer": "ipython3",
   "version": "3.7.6"
  }
 },
 "nbformat": 4,
 "nbformat_minor": 4
}
