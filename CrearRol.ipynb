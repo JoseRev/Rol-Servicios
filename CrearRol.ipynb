{
 "cells": [
  {
   "cell_type": "markdown",
   "metadata": {},
   "source": [
    "### <font color='blue'> Progama para Hacer el Rol de Servicios"
   ]
  },
  {
   "cell_type": "markdown",
   "metadata": {},
   "source": [
    "#### <font color='black'> Librerias requeridas"
   ]
  },
  {
   "cell_type": "code",
   "execution_count": 740,
   "metadata": {},
   "outputs": [],
   "source": [
    "from calendar import monthrange\n",
    "from datetime import datetime\n",
    "import pandas as pd\n",
    "import locale, calendar\n",
    "from stat import S_IREAD, S_IRGRP, S_IROTH\n",
    "from styleframe import StyleFrame, Styler, utils\n",
    "import shutil, queue, yaml"
   ]
  },
  {
   "cell_type": "markdown",
   "metadata": {},
   "source": [
    "#### <font color='blue'> Cargar el archivo con nombres de los oficiales y fechas de comisiones y svs. ctl."
   ]
  },
  {
   "cell_type": "code",
   "execution_count": 776,
   "metadata": {},
   "outputs": [],
   "source": [
    "with open(\"Relacion Oficiales.yaml\",\"r\") as s:\n",
    "    y=yaml.safe_load(s)\n",
    "nombreOficiales=[Oficial['Nombre'] for Oficial in y['Oficiales']]\n",
    "totalOfs=len(nombresOficiales)"
   ]
  },
  {
   "cell_type": "markdown",
   "metadata": {},
   "source": [
    "#### <font color='blue'> Establecer la fecha del Rol, y crear la tabla preliminar"
   ]
  },
  {
   "cell_type": "code",
   "execution_count": 777,
   "metadata": {},
   "outputs": [
    {
     "data": {
      "text/html": [
       "<div>\n",
       "<style scoped>\n",
       "    .dataframe tbody tr th:only-of-type {\n",
       "        vertical-align: middle;\n",
       "    }\n",
       "\n",
       "    .dataframe tbody tr th {\n",
       "        vertical-align: top;\n",
       "    }\n",
       "\n",
       "    .dataframe thead th {\n",
       "        text-align: right;\n",
       "    }\n",
       "</style>\n",
       "<table border=\"1\" class=\"dataframe\">\n",
       "  <thead>\n",
       "    <tr style=\"text-align: right;\">\n",
       "      <th></th>\n",
       "      <th>Oficiales</th>\n",
       "      <th>01\\ndo.</th>\n",
       "      <th>02\\nlu.</th>\n",
       "      <th>03\\nma.</th>\n",
       "      <th>04\\nmi.</th>\n",
       "      <th>05\\nju.</th>\n",
       "      <th>06\\nvi.</th>\n",
       "      <th>07\\nsá.</th>\n",
       "      <th>08\\ndo.</th>\n",
       "      <th>09\\nlu.</th>\n",
       "      <th>...</th>\n",
       "      <th>21\\nsá.</th>\n",
       "      <th>22\\ndo.</th>\n",
       "      <th>23\\nlu.</th>\n",
       "      <th>24\\nma.</th>\n",
       "      <th>25\\nmi.</th>\n",
       "      <th>26\\nju.</th>\n",
       "      <th>27\\nvi.</th>\n",
       "      <th>28\\nsá.</th>\n",
       "      <th>29\\ndo.</th>\n",
       "      <th>30\\nlu.</th>\n",
       "    </tr>\n",
       "  </thead>\n",
       "  <tbody>\n",
       "    <tr>\n",
       "      <th>0</th>\n",
       "      <td>Cap. 1/o. I.C.E. Jose Luis Revilla Manzur</td>\n",
       "      <td></td>\n",
       "      <td></td>\n",
       "      <td></td>\n",
       "      <td></td>\n",
       "      <td></td>\n",
       "      <td></td>\n",
       "      <td></td>\n",
       "      <td></td>\n",
       "      <td></td>\n",
       "      <td>...</td>\n",
       "      <td></td>\n",
       "      <td></td>\n",
       "      <td></td>\n",
       "      <td></td>\n",
       "      <td></td>\n",
       "      <td></td>\n",
       "      <td></td>\n",
       "      <td></td>\n",
       "      <td></td>\n",
       "      <td></td>\n",
       "    </tr>\n",
       "    <tr>\n",
       "      <th>1</th>\n",
       "      <td>Cap. 1/o. I.C.E. Jaime Mendoza Soto</td>\n",
       "      <td></td>\n",
       "      <td>CTL</td>\n",
       "      <td></td>\n",
       "      <td></td>\n",
       "      <td></td>\n",
       "      <td></td>\n",
       "      <td></td>\n",
       "      <td></td>\n",
       "      <td></td>\n",
       "      <td>...</td>\n",
       "      <td></td>\n",
       "      <td></td>\n",
       "      <td></td>\n",
       "      <td></td>\n",
       "      <td></td>\n",
       "      <td></td>\n",
       "      <td></td>\n",
       "      <td></td>\n",
       "      <td></td>\n",
       "      <td></td>\n",
       "    </tr>\n",
       "    <tr>\n",
       "      <th>2</th>\n",
       "      <td>Cap. 1/o. I.C.E. Carlos Mendoza Sanchez</td>\n",
       "      <td></td>\n",
       "      <td></td>\n",
       "      <td></td>\n",
       "      <td></td>\n",
       "      <td></td>\n",
       "      <td></td>\n",
       "      <td>CTL</td>\n",
       "      <td></td>\n",
       "      <td></td>\n",
       "      <td>...</td>\n",
       "      <td></td>\n",
       "      <td></td>\n",
       "      <td></td>\n",
       "      <td></td>\n",
       "      <td></td>\n",
       "      <td></td>\n",
       "      <td></td>\n",
       "      <td></td>\n",
       "      <td></td>\n",
       "      <td></td>\n",
       "    </tr>\n",
       "    <tr>\n",
       "      <th>3</th>\n",
       "      <td>Tte. Trans. Luis Raymundo de Jesus Mixteco</td>\n",
       "      <td>C</td>\n",
       "      <td>C</td>\n",
       "      <td>C</td>\n",
       "      <td>C</td>\n",
       "      <td>C</td>\n",
       "      <td>C</td>\n",
       "      <td></td>\n",
       "      <td></td>\n",
       "      <td>CTL</td>\n",
       "      <td>...</td>\n",
       "      <td></td>\n",
       "      <td></td>\n",
       "      <td></td>\n",
       "      <td></td>\n",
       "      <td></td>\n",
       "      <td></td>\n",
       "      <td></td>\n",
       "      <td></td>\n",
       "      <td></td>\n",
       "      <td></td>\n",
       "    </tr>\n",
       "    <tr>\n",
       "      <th>4</th>\n",
       "      <td>Tte. Rep. Jose Luis Felix</td>\n",
       "      <td></td>\n",
       "      <td></td>\n",
       "      <td></td>\n",
       "      <td></td>\n",
       "      <td></td>\n",
       "      <td></td>\n",
       "      <td></td>\n",
       "      <td></td>\n",
       "      <td></td>\n",
       "      <td>...</td>\n",
       "      <td></td>\n",
       "      <td></td>\n",
       "      <td></td>\n",
       "      <td></td>\n",
       "      <td></td>\n",
       "      <td></td>\n",
       "      <td></td>\n",
       "      <td></td>\n",
       "      <td></td>\n",
       "      <td></td>\n",
       "    </tr>\n",
       "    <tr>\n",
       "      <th>5</th>\n",
       "      <td>Cap. 1/o. I.C.E. Fernando Alcantar Hernandez</td>\n",
       "      <td></td>\n",
       "      <td></td>\n",
       "      <td></td>\n",
       "      <td></td>\n",
       "      <td></td>\n",
       "      <td></td>\n",
       "      <td></td>\n",
       "      <td></td>\n",
       "      <td></td>\n",
       "      <td>...</td>\n",
       "      <td></td>\n",
       "      <td></td>\n",
       "      <td></td>\n",
       "      <td></td>\n",
       "      <td></td>\n",
       "      <td></td>\n",
       "      <td></td>\n",
       "      <td></td>\n",
       "      <td></td>\n",
       "      <td></td>\n",
       "    </tr>\n",
       "    <tr>\n",
       "      <th>6</th>\n",
       "      <td>Cap. 1/o. I.C.E. Rafael Espinoza Reyes</td>\n",
       "      <td>C</td>\n",
       "      <td></td>\n",
       "      <td></td>\n",
       "      <td>CTL</td>\n",
       "      <td></td>\n",
       "      <td></td>\n",
       "      <td></td>\n",
       "      <td></td>\n",
       "      <td></td>\n",
       "      <td>...</td>\n",
       "      <td></td>\n",
       "      <td></td>\n",
       "      <td></td>\n",
       "      <td></td>\n",
       "      <td></td>\n",
       "      <td></td>\n",
       "      <td></td>\n",
       "      <td></td>\n",
       "      <td></td>\n",
       "      <td></td>\n",
       "    </tr>\n",
       "  </tbody>\n",
       "</table>\n",
       "<p>7 rows × 31 columns</p>\n",
       "</div>"
      ],
      "text/plain": [
       "                                      Oficiales 01\\ndo. 02\\nlu. 03\\nma.  \\\n",
       "0     Cap. 1/o. I.C.E. Jose Luis Revilla Manzur                           \n",
       "1           Cap. 1/o. I.C.E. Jaime Mendoza Soto             CTL           \n",
       "2       Cap. 1/o. I.C.E. Carlos Mendoza Sanchez                           \n",
       "3    Tte. Trans. Luis Raymundo de Jesus Mixteco       C       C       C   \n",
       "4                     Tte. Rep. Jose Luis Felix                           \n",
       "5  Cap. 1/o. I.C.E. Fernando Alcantar Hernandez                           \n",
       "6        Cap. 1/o. I.C.E. Rafael Espinoza Reyes       C                   \n",
       "\n",
       "  04\\nmi. 05\\nju. 06\\nvi. 07\\nsá. 08\\ndo. 09\\nlu.  ... 21\\nsá. 22\\ndo.  \\\n",
       "0                                                  ...                   \n",
       "1                                                  ...                   \n",
       "2                             CTL                  ...                   \n",
       "3       C       C       C                     CTL  ...                   \n",
       "4                                                  ...                   \n",
       "5                                                  ...                   \n",
       "6     CTL                                          ...                   \n",
       "\n",
       "  23\\nlu. 24\\nma. 25\\nmi. 26\\nju. 27\\nvi. 28\\nsá. 29\\ndo. 30\\nlu.  \n",
       "0                                                                  \n",
       "1                                                                  \n",
       "2                                                                  \n",
       "3                                                                  \n",
       "4                                                                  \n",
       "5                                                                  \n",
       "6                                                                  \n",
       "\n",
       "[7 rows x 31 columns]"
      ]
     },
     "execution_count": 777,
     "metadata": {},
     "output_type": "execute_result"
    }
   ],
   "source": [
    "mes=11 \n",
    "año=2020\n",
    "\n",
    "locale.setlocale(locale.LC_ALL, 'es_ES') #idioma Español\n",
    "diasMes=[datetime(año, mes, x+1).strftime(\"%d\\n%a\") for x in range(monthrange(año,mes)[1])]\n",
    "df=pd.DataFrame(columns=diasMes)\n",
    "df.insert(0, column='Oficiales', value=nombresOficiales)\n",
    "df=colocar_comisiones(df,y).fillna(\"\")\n",
    "df"
   ]
  },
  {
   "cell_type": "markdown",
   "metadata": {},
   "source": [
    "#### <font color='blue'> Asignar comisiones"
   ]
  },
  {
   "cell_type": "code",
   "execution_count": null,
   "metadata": {},
   "outputs": [],
   "source": []
  },
  {
   "cell_type": "markdown",
   "metadata": {},
   "source": [
    "### <font color='red'> Algoritmo para designar los servicios"
   ]
  },
  {
   "cell_type": "markdown",
   "metadata": {},
   "source": [
    "#### <font color='bluw'> Crear colas/queue"
   ]
  },
  {
   "cell_type": "code",
   "execution_count": null,
   "metadata": {},
   "outputs": [],
   "source": []
  },
  {
   "cell_type": "code",
   "execution_count": 743,
   "metadata": {},
   "outputs": [],
   "source": [
    "serviciosSD=[]\n",
    "for index,Oficial in enumerate(y['Oficiales']):\n",
    "    serviciosSD.append([Oficial['Servicios del mes anterior fin de semana'],len(y['Oficiales'])-index,Oficial['Nombre']])\n",
    "serviciosSD.sort()\n",
    "\n",
    "serviciosLV=[]\n",
    "for index,Oficial in enumerate(y['Oficiales']):\n",
    "    serviciosLV.append([Oficial['Servicios del mes anterior entresemana'],index,Oficial['Nombre']])\n",
    "serviciosLV.sort()\n"
   ]
  },
  {
   "cell_type": "markdown",
   "metadata": {},
   "source": [
    "#### <font color='bluw'> Designar fin de semana"
   ]
  },
  {
   "cell_type": "code",
   "execution_count": null,
   "metadata": {},
   "outputs": [],
   "source": []
  },
  {
   "cell_type": "code",
   "execution_count": 744,
   "metadata": {
    "collapsed": true
   },
   "outputs": [
    {
     "ename": "ValueError",
     "evalue": "can only convert an array of size 1 to a Python scalar",
     "output_type": "error",
     "traceback": [
      "\u001b[1;31m---------------------------------------------------------------------------\u001b[0m",
      "\u001b[1;31mValueError\u001b[0m                                Traceback (most recent call last)",
      "\u001b[1;32m<ipython-input-744-bcf74fc994fb>\u001b[0m in \u001b[0;36m<module>\u001b[1;34m\u001b[0m\n\u001b[0;32m     32\u001b[0m             \u001b[1;31m#¿Esta de comision? ¿Estuvo de servicio de Ctl ayer? ¿Estuvo ayer de otro sv?\u001b[0m\u001b[1;33m\u001b[0m\u001b[1;33m\u001b[0m\u001b[1;33m\u001b[0m\u001b[0m\n\u001b[0;32m     33\u001b[0m             \u001b[1;32mif\u001b[0m \u001b[0mOf_designado\u001b[0m\u001b[1;33m[\u001b[0m\u001b[1;36m2\u001b[0m\u001b[1;33m]\u001b[0m\u001b[1;33m==\u001b[0m\u001b[1;34m'Cap. 1/o. I.C.E.Berenice Flores Mancilla'\u001b[0m\u001b[1;33m:\u001b[0m\u001b[1;33m\u001b[0m\u001b[1;33m\u001b[0m\u001b[0m\n\u001b[1;32m---> 34\u001b[1;33m                 \u001b[0mprint\u001b[0m\u001b[1;33m(\u001b[0m\u001b[0mdf\u001b[0m\u001b[1;33m.\u001b[0m\u001b[0mloc\u001b[0m\u001b[1;33m[\u001b[0m\u001b[0mdf\u001b[0m\u001b[1;33m[\u001b[0m\u001b[1;34m'Oficiales'\u001b[0m\u001b[1;33m]\u001b[0m\u001b[1;33m==\u001b[0m\u001b[0mOf_designado\u001b[0m\u001b[1;33m[\u001b[0m\u001b[1;36m2\u001b[0m\u001b[1;33m]\u001b[0m\u001b[1;33m,\u001b[0m\u001b[0mdf\u001b[0m\u001b[1;33m.\u001b[0m\u001b[0mcolumns\u001b[0m\u001b[1;33m[\u001b[0m\u001b[0mdia\u001b[0m\u001b[1;33m]\u001b[0m\u001b[1;33m]\u001b[0m\u001b[1;33m.\u001b[0m\u001b[0mitem\u001b[0m\u001b[1;33m(\u001b[0m\u001b[1;33m)\u001b[0m \u001b[1;33m)\u001b[0m\u001b[1;33m\u001b[0m\u001b[1;33m\u001b[0m\u001b[0m\n\u001b[0m\u001b[0;32m     35\u001b[0m                 \u001b[0mprint\u001b[0m\u001b[1;33m(\u001b[0m\u001b[0mdf\u001b[0m\u001b[1;33m.\u001b[0m\u001b[0mloc\u001b[0m\u001b[1;33m[\u001b[0m\u001b[0mdf\u001b[0m\u001b[1;33m[\u001b[0m\u001b[1;34m'Oficiales'\u001b[0m\u001b[1;33m]\u001b[0m\u001b[1;33m==\u001b[0m\u001b[0mOf_designado\u001b[0m\u001b[1;33m[\u001b[0m\u001b[1;36m2\u001b[0m\u001b[1;33m]\u001b[0m\u001b[1;33m,\u001b[0m\u001b[0mdf\u001b[0m\u001b[1;33m.\u001b[0m\u001b[0mcolumns\u001b[0m\u001b[1;33m[\u001b[0m\u001b[0mdia\u001b[0m\u001b[1;33m-\u001b[0m\u001b[1;36m1\u001b[0m\u001b[1;33m]\u001b[0m\u001b[1;33m]\u001b[0m\u001b[1;33m.\u001b[0m\u001b[0mitem\u001b[0m\u001b[1;33m(\u001b[0m\u001b[1;33m)\u001b[0m \u001b[1;33m)\u001b[0m\u001b[1;33m\u001b[0m\u001b[1;33m\u001b[0m\u001b[0m\n\u001b[0;32m     36\u001b[0m                 \u001b[0mprint\u001b[0m\u001b[1;33m(\u001b[0m\u001b[0mdf\u001b[0m\u001b[1;33m.\u001b[0m\u001b[0mloc\u001b[0m\u001b[1;33m[\u001b[0m\u001b[0mdf\u001b[0m\u001b[1;33m[\u001b[0m\u001b[1;34m'Oficiales'\u001b[0m\u001b[1;33m]\u001b[0m\u001b[1;33m==\u001b[0m\u001b[0mOf_designado\u001b[0m\u001b[1;33m[\u001b[0m\u001b[1;36m2\u001b[0m\u001b[1;33m]\u001b[0m\u001b[1;33m,\u001b[0m\u001b[0mdf\u001b[0m\u001b[1;33m.\u001b[0m\u001b[0mcolumns\u001b[0m\u001b[1;33m[\u001b[0m\u001b[0mdia\u001b[0m\u001b[1;33m-\u001b[0m\u001b[1;36m1\u001b[0m\u001b[1;33m]\u001b[0m\u001b[1;33m]\u001b[0m\u001b[1;33m.\u001b[0m\u001b[0mitem\u001b[0m\u001b[1;33m(\u001b[0m\u001b[1;33m)\u001b[0m \u001b[1;33m)\u001b[0m\u001b[1;33m\u001b[0m\u001b[1;33m\u001b[0m\u001b[0m\n",
      "\u001b[1;32mc:\\users\\sedena\\appdata\\local\\programs\\python\\python37-32\\lib\\site-packages\\pandas\\core\\base.py\u001b[0m in \u001b[0;36mitem\u001b[1;34m(self)\u001b[0m\n\u001b[0;32m    658\u001b[0m         \u001b[1;32mif\u001b[0m \u001b[0mlen\u001b[0m\u001b[1;33m(\u001b[0m\u001b[0mself\u001b[0m\u001b[1;33m)\u001b[0m \u001b[1;33m==\u001b[0m \u001b[1;36m1\u001b[0m\u001b[1;33m:\u001b[0m\u001b[1;33m\u001b[0m\u001b[1;33m\u001b[0m\u001b[0m\n\u001b[0;32m    659\u001b[0m             \u001b[1;32mreturn\u001b[0m \u001b[0mnext\u001b[0m\u001b[1;33m(\u001b[0m\u001b[0miter\u001b[0m\u001b[1;33m(\u001b[0m\u001b[0mself\u001b[0m\u001b[1;33m)\u001b[0m\u001b[1;33m)\u001b[0m\u001b[1;33m\u001b[0m\u001b[1;33m\u001b[0m\u001b[0m\n\u001b[1;32m--> 660\u001b[1;33m         \u001b[1;32mraise\u001b[0m \u001b[0mValueError\u001b[0m\u001b[1;33m(\u001b[0m\u001b[1;34m\"can only convert an array of size 1 to a Python scalar\"\u001b[0m\u001b[1;33m)\u001b[0m\u001b[1;33m\u001b[0m\u001b[1;33m\u001b[0m\u001b[0m\n\u001b[0m\u001b[0;32m    661\u001b[0m \u001b[1;33m\u001b[0m\u001b[0m\n\u001b[0;32m    662\u001b[0m     \u001b[1;33m@\u001b[0m\u001b[0mproperty\u001b[0m\u001b[1;33m\u001b[0m\u001b[1;33m\u001b[0m\u001b[0m\n",
      "\u001b[1;31mValueError\u001b[0m: can only convert an array of size 1 to a Python scalar"
     ]
    }
   ],
   "source": [
    "dias = len(df.columns)\n",
    "\n",
    "for dia in range(1,dias): #avanzamos un dia hasta acompletar el mes\n",
    "    # Caso en el que es fin de semana (queue fin semana):\n",
    "    \n",
    "    if datetime(año, mes, dia).strftime(\"%A\") == 'sábado' or datetime(año, mes, dia).strftime(\"%A\") == 'domingo': \n",
    "        if VerCtl(df,dia)[0]==False: # (¿Hay alguien de cuartel?)\n",
    "            serviciosSD.sort()\n",
    "            Of_designado=serviciosSD.pop(0) # 1er Propuesta para el sv.\n",
    "            #¿Esta de comision? ¿Estuvo de servicio de Ctl ayer? ¿Estuvo ayer de otro sv?\n",
    "            if df.loc[df['Oficiales']==Of_designado[2],df.columns[dia]].item() == \"\" and df.loc[df['Oficiales']==Of_designado[2],df.columns[dia-1]].item() != 'CTL' and (df.loc[df['Oficiales']==Of_designado[2],df.columns[dia-1]].item() == \"\" or df.loc[df['Oficiales']==Of_designado[2],df.columns[dia-1]].item() == \"C\"):\n",
    "                df.loc[df['Oficiales']==Of_designado[2],df.columns[dia]] = Of_designado[0] + 1   # Se coloca en el rol, el sv a la persona designada, con anotacion de los números de servicios que lleva\n",
    "                serviciosSD.append([Of_designado[0]+1,Of_designado[1],Of_designado[2]]) # Se introduce al primer propuesto a la cola + 1 sv\n",
    "            #si el oficial designado no puede montar, nos vamos por el que sigue\n",
    "            else:\n",
    "                Of_designado2=serviciosSD.pop(0)\n",
    "                df.loc[df['Oficiales']==Of_designado2[2],df.columns[dia]] = Of_designado2[0] + 1   # Se coloca en el rol, el sv a la persona designada, con anotacion de los números de servicios que lleva\n",
    "                serviciosSD.append([Of_designado2[0]+1,Of_designado2[1],Of_designado2[2]]) # Se introduce al 2o propuesto a la cola + 1 sv\n",
    "                serviciosSD.append([Of_designado[0],Of_designado[1],Of_designado[2]]) # Se introduce al 1er propuesto a la cola sv\n",
    "        elif VerCtl(df,dia)[0]==True: # Si ya habia alguien de Ctl, le contamos su servicio\n",
    "            OfCtl=VerCtl(df,dia)[1]\n",
    "            indexCtl=elementInSubarray(serviciosSD, OfCtl)\n",
    "            serviciosSD[indexCtl][0]+=1\n",
    "        serviciosSD.sort()\n",
    "\n",
    "        \n",
    "     # Caso en el que es entre semana (queue entre semana):\n",
    "    elif datetime(año, mes, dia).strftime(\"%A\") != 'sábado' and datetime(año, mes, dia).strftime(\"%A\") != 'domingo': \n",
    "        if VerCtl(df,dia)[0]==False: # (¿Hay alguien de cuartel?)\n",
    "            serviciosLV.sort()\n",
    "            Of_designado=serviciosLV.pop(0) # 1er Propuesta para el sv.\n",
    "            #¿Esta de comision? ¿Estuvo de servicio de Ctl ayer? ¿Estuvo ayer de otro sv?\n",
    "            if Of_designado[2]=='Cap. 1/o. I.C.E.Berenice Flores Mancilla':\n",
    "                print(df.loc[df['Oficiales']==Of_designado[2],df.columns[dia]].item() )\n",
    "                print(df.loc[df['Oficiales']==Of_designado[2],df.columns[dia-1]].item() )\n",
    "                print(df.loc[df['Oficiales']==Of_designado[2],df.columns[dia-1]].item() )\n",
    "                break\n",
    "            if df.loc[df['Oficiales']==Of_designado[2],df.columns[dia]].item() == \"\" and df.loc[df['Oficiales']==Of_designado[2],df.columns[dia-1]].item() != 'CTL' and (df.loc[df['Oficiales']==Of_designado[2],df.columns[dia-1]].item() == \"\" or df.loc[df['Oficiales']==Of_designado[2],df.columns[dia-1]].item() == \"C\"):\n",
    "                df.loc[df['Oficiales']==Of_designado[2],df.columns[dia]] = Of_designado[0] + 1   # Se coloca en el rol, el sv a la persona designada, con anotacion de los números de servicios que lleva\n",
    "                serviciosLV.append([Of_designado[0]+1,Of_designado[1],Of_designado[2]]) # Se introduce al primer propuesto a la cola + 1 sv\n",
    "            #si el oficial designado no puede montar, nos vamos por el que sigue\n",
    "            else:\n",
    "                Of_designado2=serviciosLV.pop(0)\n",
    "                df.loc[df['Oficiales']==Of_designado2[2],df.columns[dia]] = Of_designado2[0] + 1   # Se coloca en el rol, el sv a la persona designada, con anotacion de los números de servicios que lleva\n",
    "                serviciosLV.append([Of_designado2[0]+1,Of_designado2[1],Of_designado2[2]]) # Se introduce al 2o propuesto a la cola + 1 sv\n",
    "                serviciosLV.append([Of_designado[0],Of_designado[1],Of_designado[2]]) # Se introduce al 1er propuesto a la cola sv\n",
    "        elif VerCtl(df,dia)[0]==True: # Si ya habia alguien de Ctl, le contamos su servicio\n",
    "            OfCtl=VerCtl(df,dia)[1]\n",
    "            indexCtl=elementInSubarray(serviciosLV, OfCtl)\n",
    "            serviciosLV[indexCtl][0]+=1\n",
    "        serviciosLV.sort()"
   ]
  },
  {
   "cell_type": "code",
   "execution_count": 761,
   "metadata": {
    "collapsed": true
   },
   "outputs": [
    {
     "ename": "ValueError",
     "evalue": "can only convert an array of size 1 to a Python scalar",
     "output_type": "error",
     "traceback": [
      "\u001b[1;31m---------------------------------------------------------------------------\u001b[0m",
      "\u001b[1;31mValueError\u001b[0m                                Traceback (most recent call last)",
      "\u001b[1;32m<ipython-input-761-f0999b505524>\u001b[0m in \u001b[0;36m<module>\u001b[1;34m\u001b[0m\n\u001b[1;32m----> 1\u001b[1;33m \u001b[0mdf\u001b[0m\u001b[1;33m.\u001b[0m\u001b[0mloc\u001b[0m\u001b[1;33m[\u001b[0m\u001b[0mdf\u001b[0m\u001b[1;33m[\u001b[0m\u001b[1;34m'Oficiales'\u001b[0m\u001b[1;33m]\u001b[0m\u001b[1;33m==\u001b[0m\u001b[0mOf_designado\u001b[0m\u001b[1;33m[\u001b[0m\u001b[1;36m2\u001b[0m\u001b[1;33m]\u001b[0m\u001b[1;33m,\u001b[0m\u001b[0mdf\u001b[0m\u001b[1;33m.\u001b[0m\u001b[0mcolumns\u001b[0m\u001b[1;33m[\u001b[0m\u001b[0mdia\u001b[0m\u001b[1;33m]\u001b[0m\u001b[1;33m]\u001b[0m\u001b[1;33m.\u001b[0m\u001b[0mitem\u001b[0m\u001b[1;33m(\u001b[0m\u001b[1;33m)\u001b[0m\u001b[1;33m\u001b[0m\u001b[1;33m\u001b[0m\u001b[0m\n\u001b[0m",
      "\u001b[1;32mc:\\users\\sedena\\appdata\\local\\programs\\python\\python37-32\\lib\\site-packages\\pandas\\core\\base.py\u001b[0m in \u001b[0;36mitem\u001b[1;34m(self)\u001b[0m\n\u001b[0;32m    658\u001b[0m         \u001b[1;32mif\u001b[0m \u001b[0mlen\u001b[0m\u001b[1;33m(\u001b[0m\u001b[0mself\u001b[0m\u001b[1;33m)\u001b[0m \u001b[1;33m==\u001b[0m \u001b[1;36m1\u001b[0m\u001b[1;33m:\u001b[0m\u001b[1;33m\u001b[0m\u001b[1;33m\u001b[0m\u001b[0m\n\u001b[0;32m    659\u001b[0m             \u001b[1;32mreturn\u001b[0m \u001b[0mnext\u001b[0m\u001b[1;33m(\u001b[0m\u001b[0miter\u001b[0m\u001b[1;33m(\u001b[0m\u001b[0mself\u001b[0m\u001b[1;33m)\u001b[0m\u001b[1;33m)\u001b[0m\u001b[1;33m\u001b[0m\u001b[1;33m\u001b[0m\u001b[0m\n\u001b[1;32m--> 660\u001b[1;33m         \u001b[1;32mraise\u001b[0m \u001b[0mValueError\u001b[0m\u001b[1;33m(\u001b[0m\u001b[1;34m\"can only convert an array of size 1 to a Python scalar\"\u001b[0m\u001b[1;33m)\u001b[0m\u001b[1;33m\u001b[0m\u001b[1;33m\u001b[0m\u001b[0m\n\u001b[0m\u001b[0;32m    661\u001b[0m \u001b[1;33m\u001b[0m\u001b[0m\n\u001b[0;32m    662\u001b[0m     \u001b[1;33m@\u001b[0m\u001b[0mproperty\u001b[0m\u001b[1;33m\u001b[0m\u001b[1;33m\u001b[0m\u001b[0m\n",
      "\u001b[1;31mValueError\u001b[0m: can only convert an array of size 1 to a Python scalar"
     ]
    }
   ],
   "source": [
    "df.loc[df['Oficiales']==Of_designado[2],df.columns[dia]].item()"
   ]
  },
  {
   "cell_type": "code",
   "execution_count": 759,
   "metadata": {},
   "outputs": [
    {
     "data": {
      "text/plain": [
       "'Series([], Name: 03\\\\nma., dtype: object)'"
      ]
     },
     "execution_count": 759,
     "metadata": {},
     "output_type": "execute_result"
    }
   ],
   "source": [
    "a"
   ]
  },
  {
   "cell_type": "code",
   "execution_count": 766,
   "metadata": {},
   "outputs": [
    {
     "data": {
      "text/plain": [
       "Oficiales    Cap. 1/o. I.C.E. Jose Luis Revilla Manzur\n",
       "01\\ndo.                                               \n",
       "02\\nlu.                                               \n",
       "03\\nma.                                               \n",
       "04\\nmi.                                               \n",
       "Name: 0, dtype: object"
      ]
     },
     "execution_count": 766,
     "metadata": {},
     "output_type": "execute_result"
    }
   ],
   "source": [
    "df.iloc[0,:5]"
   ]
  },
  {
   "cell_type": "code",
   "execution_count": 731,
   "metadata": {},
   "outputs": [
    {
     "data": {
      "text/plain": [
       "[[0, 1, 'Cap. 1/o. I.C.E. Rafael Espinoza Reyes'],\n",
       " [0, 3, 'Tte. Rep. Jose Luis Felix'],\n",
       " [0, 4, 'Tte. Trans. Luis Raymundo de Jesus Mixteco'],\n",
       " [0, 5, 'Cap. 1/o. I.C.E. Carlos Mendoza Sanchez'],\n",
       " [0, 6, 'Cap. 1/o. I.C.E. Jaime Mendoza Soto'],\n",
       " [0, 7, 'Cap. 1/o. I.C.E.Berenice Flores Mancilla'],\n",
       " [1, 2, 'Cap. 1/o. I.C.E. Fernando Alcantar Hernandez']]"
      ]
     },
     "execution_count": 731,
     "metadata": {},
     "output_type": "execute_result"
    }
   ],
   "source": [
    "serviciosSD"
   ]
  },
  {
   "cell_type": "markdown",
   "metadata": {},
   "source": [
    "#### <font color='bluw'> Designar entresemana"
   ]
  },
  {
   "cell_type": "code",
   "execution_count": null,
   "metadata": {},
   "outputs": [],
   "source": []
  },
  {
   "cell_type": "code",
   "execution_count": 565,
   "metadata": {
    "collapsed": true
   },
   "outputs": [
    {
     "ename": "ValueError",
     "evalue": "The truth value of a Series is ambiguous. Use a.empty, a.bool(), a.item(), a.any() or a.all().",
     "output_type": "error",
     "traceback": [
      "\u001b[1;31m---------------------------------------------------------------------------\u001b[0m",
      "\u001b[1;31mValueError\u001b[0m                                Traceback (most recent call last)",
      "\u001b[1;32m<ipython-input-565-feed326bd9b4>\u001b[0m in \u001b[0;36m<module>\u001b[1;34m\u001b[0m\n\u001b[0;32m      3\u001b[0m     \u001b[1;32mif\u001b[0m \u001b[0mVerCtl\u001b[0m\u001b[1;33m(\u001b[0m\u001b[0mdf\u001b[0m\u001b[1;33m,\u001b[0m\u001b[0mdia\u001b[0m\u001b[1;33m)\u001b[0m\u001b[1;33m[\u001b[0m\u001b[1;36m0\u001b[0m\u001b[1;33m]\u001b[0m\u001b[1;33m==\u001b[0m\u001b[1;32mFalse\u001b[0m\u001b[1;33m:\u001b[0m \u001b[1;31m# (¿Hay alguien de cuartel?)\u001b[0m\u001b[1;33m\u001b[0m\u001b[1;33m\u001b[0m\u001b[0m\n\u001b[0;32m      4\u001b[0m         \u001b[0mOf_designado\u001b[0m\u001b[1;33m=\u001b[0m\u001b[0mserviciosLV\u001b[0m\u001b[1;33m.\u001b[0m\u001b[0mpop\u001b[0m\u001b[1;33m(\u001b[0m\u001b[1;36m0\u001b[0m\u001b[1;33m)\u001b[0m \u001b[1;31m#Se designa al primer propuesto\u001b[0m\u001b[1;33m\u001b[0m\u001b[1;33m\u001b[0m\u001b[0m\n\u001b[1;32m----> 5\u001b[1;33m         \u001b[1;32mif\u001b[0m \u001b[0mdf\u001b[0m\u001b[1;33m.\u001b[0m\u001b[0mloc\u001b[0m\u001b[1;33m[\u001b[0m\u001b[0mdf\u001b[0m\u001b[1;33m[\u001b[0m\u001b[1;34m'Oficiales'\u001b[0m\u001b[1;33m]\u001b[0m\u001b[1;33m==\u001b[0m\u001b[0mOf_designado\u001b[0m\u001b[1;33m[\u001b[0m\u001b[1;36m2\u001b[0m\u001b[1;33m]\u001b[0m\u001b[1;33m,\u001b[0m\u001b[0mdf\u001b[0m\u001b[1;33m.\u001b[0m\u001b[0mcolumns\u001b[0m\u001b[1;33m[\u001b[0m\u001b[0mdia\u001b[0m\u001b[1;33m]\u001b[0m\u001b[1;33m]\u001b[0m \u001b[1;33m==\u001b[0m \u001b[1;32mNone\u001b[0m \u001b[1;32mand\u001b[0m \u001b[0mdf\u001b[0m\u001b[1;33m.\u001b[0m\u001b[0mloc\u001b[0m\u001b[1;33m[\u001b[0m\u001b[0mdf\u001b[0m\u001b[1;33m[\u001b[0m\u001b[1;34m'Oficiales'\u001b[0m\u001b[1;33m]\u001b[0m\u001b[1;33m==\u001b[0m\u001b[0mOf_designado\u001b[0m\u001b[1;33m[\u001b[0m\u001b[1;36m2\u001b[0m\u001b[1;33m]\u001b[0m\u001b[1;33m,\u001b[0m\u001b[0mdf\u001b[0m\u001b[1;33m.\u001b[0m\u001b[0mcolumns\u001b[0m\u001b[1;33m[\u001b[0m\u001b[0mdia\u001b[0m\u001b[1;33m-\u001b[0m\u001b[1;36m1\u001b[0m\u001b[1;33m]\u001b[0m\u001b[1;33m]\u001b[0m \u001b[1;33m!=\u001b[0m \u001b[1;34m'CTL'\u001b[0m \u001b[1;32mand\u001b[0m \u001b[0mtype\u001b[0m\u001b[1;33m(\u001b[0m\u001b[0mdf\u001b[0m\u001b[1;33m.\u001b[0m\u001b[0mloc\u001b[0m\u001b[1;33m[\u001b[0m\u001b[0mdf\u001b[0m\u001b[1;33m[\u001b[0m\u001b[1;34m'Oficiales'\u001b[0m\u001b[1;33m]\u001b[0m\u001b[1;33m==\u001b[0m\u001b[0mOf_designado\u001b[0m\u001b[1;33m[\u001b[0m\u001b[1;36m2\u001b[0m\u001b[1;33m]\u001b[0m\u001b[1;33m,\u001b[0m\u001b[0mdf\u001b[0m\u001b[1;33m.\u001b[0m\u001b[0mcolumns\u001b[0m\u001b[1;33m[\u001b[0m\u001b[0mdia\u001b[0m\u001b[1;33m-\u001b[0m\u001b[1;36m1\u001b[0m\u001b[1;33m]\u001b[0m\u001b[1;33m]\u001b[0m\u001b[1;33m)\u001b[0m \u001b[1;33m!=\u001b[0m \u001b[0mint\u001b[0m\u001b[1;33m:\u001b[0m \u001b[1;31m#¿Esta de comision? ¿Estuvo de servicio ayer?\u001b[0m\u001b[1;33m\u001b[0m\u001b[1;33m\u001b[0m\u001b[0m\n\u001b[0m\u001b[0;32m      6\u001b[0m             \u001b[0mdf\u001b[0m\u001b[1;33m.\u001b[0m\u001b[0mloc\u001b[0m\u001b[1;33m[\u001b[0m\u001b[0mdf\u001b[0m\u001b[1;33m[\u001b[0m\u001b[1;34m'Oficiales'\u001b[0m\u001b[1;33m]\u001b[0m\u001b[1;33m==\u001b[0m\u001b[0mOf_designado\u001b[0m\u001b[1;33m[\u001b[0m\u001b[1;36m2\u001b[0m\u001b[1;33m]\u001b[0m\u001b[1;33m,\u001b[0m\u001b[0mdf\u001b[0m\u001b[1;33m.\u001b[0m\u001b[0mcolumns\u001b[0m\u001b[1;33m[\u001b[0m\u001b[0mdia\u001b[0m\u001b[1;33m]\u001b[0m\u001b[1;33m]\u001b[0m \u001b[1;33m=\u001b[0m \u001b[0mOf_designado\u001b[0m\u001b[1;33m[\u001b[0m\u001b[1;36m0\u001b[0m\u001b[1;33m]\u001b[0m \u001b[1;33m+\u001b[0m \u001b[1;36m1\u001b[0m   \u001b[1;31m# Se coloca en el rol, el sv a la persona designada, con anotacion de los números de servicios que lleva\u001b[0m\u001b[1;33m\u001b[0m\u001b[1;33m\u001b[0m\u001b[0m\n\u001b[0;32m      7\u001b[0m             \u001b[0mserviciosLV\u001b[0m\u001b[1;33m.\u001b[0m\u001b[0mappend\u001b[0m\u001b[1;33m(\u001b[0m\u001b[1;33m[\u001b[0m\u001b[0mOf_designado\u001b[0m\u001b[1;33m[\u001b[0m\u001b[1;36m0\u001b[0m\u001b[1;33m]\u001b[0m\u001b[1;33m+\u001b[0m\u001b[1;36m1\u001b[0m\u001b[1;33m,\u001b[0m\u001b[0mOf_designado\u001b[0m\u001b[1;33m[\u001b[0m\u001b[1;36m1\u001b[0m\u001b[1;33m]\u001b[0m\u001b[1;33m,\u001b[0m\u001b[0mOf_designado\u001b[0m\u001b[1;33m[\u001b[0m\u001b[1;36m2\u001b[0m\u001b[1;33m]\u001b[0m\u001b[1;33m]\u001b[0m\u001b[1;33m)\u001b[0m \u001b[1;31m# Se introduce al primer propuesto a la cola + 1 sv\u001b[0m\u001b[1;33m\u001b[0m\u001b[1;33m\u001b[0m\u001b[0m\n",
      "\u001b[1;32mc:\\users\\sedena\\appdata\\local\\programs\\python\\python37-32\\lib\\site-packages\\pandas\\core\\generic.py\u001b[0m in \u001b[0;36m__nonzero__\u001b[1;34m(self)\u001b[0m\n\u001b[0;32m   1325\u001b[0m     \u001b[1;32mdef\u001b[0m \u001b[0m__nonzero__\u001b[0m\u001b[1;33m(\u001b[0m\u001b[0mself\u001b[0m\u001b[1;33m)\u001b[0m\u001b[1;33m:\u001b[0m\u001b[1;33m\u001b[0m\u001b[1;33m\u001b[0m\u001b[0m\n\u001b[0;32m   1326\u001b[0m         raise ValueError(\n\u001b[1;32m-> 1327\u001b[1;33m             \u001b[1;34mf\"The truth value of a {type(self).__name__} is ambiguous. \"\u001b[0m\u001b[1;33m\u001b[0m\u001b[1;33m\u001b[0m\u001b[0m\n\u001b[0m\u001b[0;32m   1328\u001b[0m             \u001b[1;34m\"Use a.empty, a.bool(), a.item(), a.any() or a.all().\"\u001b[0m\u001b[1;33m\u001b[0m\u001b[1;33m\u001b[0m\u001b[0m\n\u001b[0;32m   1329\u001b[0m         )\n",
      "\u001b[1;31mValueError\u001b[0m: The truth value of a Series is ambiguous. Use a.empty, a.bool(), a.item(), a.any() or a.all()."
     ]
    }
   ],
   "source": [
    "dias = len(df.columns)\n",
    "for dia in range(1,dias): #rotando filas del rol (dia uno)\n",
    "    if VerCtl(df,dia)[0]==False: # (¿Hay alguien de cuartel?)\n",
    "        Of_designado=serviciosLV.pop(0) #Se designa al primer propuesto \n",
    "        if df.loc[df['Oficiales']==Of_designado[2],df.columns[dia]] == None and df.loc[df['Oficiales']==Of_designado[2],df.columns[dia-1]] != 'CTL' and type(df.loc[df['Oficiales']==Of_designado[2],df.columns[dia-1]]) != int: #¿Esta de comision? ¿Estuvo de servicio ayer?\n",
    "            df.loc[df['Oficiales']==Of_designado[2],df.columns[dia]] = Of_designado[0] + 1   # Se coloca en el rol, el sv a la persona designada, con anotacion de los números de servicios que lleva\n",
    "            serviciosLV.append([Of_designado[0]+1,Of_designado[1],Of_designado[2]]) # Se introduce al primer propuesto a la cola + 1 sv\n",
    "\n",
    "        else:\n",
    "            Of_designado2=serviciosLV.pop(0)\n",
    "            df.loc[df['Oficiales']==Of_designado2[2],df.columns[dia]] = Of_designado2[0] + 1   # Se coloca en el rol, el sv a la persona designada, con anotacion de los números de servicios que lleva\n",
    "            serviciosLV.append([Of_designado2[0]+1,Of_designado2[1],Of_designado2[2]]) # Se introduce al 2o propuesto a la cola + 1 sv\n",
    "            serviciosLV.append([Of_designado[0],Of_designado[1],Of_designado[2]]) # Se introduce al 1er propuesto a la cola sv\n",
    "\n",
    "            \n",
    "            \n",
    "        \n",
    "        #df.loc[df['Oficiales']==Of_designado[2],df.columns[dia]] = Of_designado[0] + 1   # Se coloca en el rol, el sv a la persona designada, con anotacion de los números de servicios que lleva\n",
    "        #serviciosLV.append([Of_designado[0]+1,Of_designado[1],Of_designado[2]]) # Se introduce al primer propuesto a la cola + 1 sv\n",
    "        serviciosLV.sort()\n",
    "    elif VerCtl(df,dia)[0]==True:\n",
    "        OfCtl=VerCtl(df,dia)[1]\n",
    "        indexCtl=elementInSubarray(serviciosLV, OfCtl)\n",
    "        serviciosLV[indexCtl][0]+=1\n",
    "    serviciosLV.sort()\n",
    "#        df.loc[df['Oficiales']==OfCtl,]\n"
   ]
  },
  {
   "cell_type": "code",
   "execution_count": null,
   "metadata": {},
   "outputs": [],
   "source": []
  },
  {
   "cell_type": "code",
   "execution_count": 570,
   "metadata": {},
   "outputs": [
    {
     "data": {
      "text/plain": [
       "float"
      ]
     },
     "execution_count": 570,
     "metadata": {},
     "output_type": "execute_result"
    }
   ],
   "source": [
    "type(df.iloc[1,1])\n",
    "#df.iloc[1,1]"
   ]
  },
  {
   "cell_type": "code",
   "execution_count": null,
   "metadata": {},
   "outputs": [],
   "source": []
  },
  {
   "cell_type": "code",
   "execution_count": null,
   "metadata": {},
   "outputs": [],
   "source": []
  },
  {
   "cell_type": "code",
   "execution_count": null,
   "metadata": {},
   "outputs": [],
   "source": []
  },
  {
   "cell_type": "code",
   "execution_count": null,
   "metadata": {},
   "outputs": [],
   "source": []
  },
  {
   "cell_type": "code",
   "execution_count": null,
   "metadata": {},
   "outputs": [],
   "source": []
  },
  {
   "cell_type": "code",
   "execution_count": null,
   "metadata": {},
   "outputs": [],
   "source": []
  },
  {
   "cell_type": "code",
   "execution_count": null,
   "metadata": {},
   "outputs": [],
   "source": []
  },
  {
   "cell_type": "markdown",
   "metadata": {},
   "source": [
    "#### <font color='blue'> Guardar los archivos en EXCEL"
   ]
  },
  {
   "cell_type": "code",
   "execution_count": 745,
   "metadata": {},
   "outputs": [],
   "source": [
    "sf=StyleFrame(df)\n",
    "sf.to_excel(excel_writer='Rol Dic.xlsx', best_fit=list(df.columns), index=False).save()"
   ]
  },
  {
   "cell_type": "code",
   "execution_count": null,
   "metadata": {},
   "outputs": [],
   "source": []
  },
  {
   "cell_type": "code",
   "execution_count": null,
   "metadata": {},
   "outputs": [],
   "source": []
  },
  {
   "cell_type": "markdown",
   "metadata": {},
   "source": [
    "#### <font color='blue'> Funciones del Sistema"
   ]
  },
  {
   "cell_type": "code",
   "execution_count": 485,
   "metadata": {},
   "outputs": [],
   "source": [
    "#funcion para verificar si no hay alguien de ctl\n",
    "def VerCtl(df,dia):\n",
    "    AlguienCtl=False\n",
    "    for x in range(totalOfs):\n",
    "        if df.iloc[x,dia]=='CTL':\n",
    "            AlguienCtl=True\n",
    "            nombreCtl=df.iloc[x,0]\n",
    "            return [AlguienCtl,nombreCtl]\n",
    "    return [AlguienCtl,None]"
   ]
  },
  {
   "cell_type": "code",
   "execution_count": 564,
   "metadata": {},
   "outputs": [],
   "source": [
    "def elementInSubarray(array, string1):\n",
    "    for x in array:\n",
    "        if string1 in x:\n",
    "            return array.index(x)\n",
    "    \n",
    "#elementInSubarray(serviciosLV,'Cap. 1/o. I.C.E. Jaime Mendoza Soto')"
   ]
  },
  {
   "cell_type": "code",
   "execution_count": 430,
   "metadata": {},
   "outputs": [],
   "source": [
    "#Funcion para obtener la fecha para utilizarse en el .loc de acuerdo a las comisiones nombradas\n",
    "def get_date(df,dia):\n",
    "    for match in list(df.columns):\n",
    "        if str(int(dia)).zfill(2) in match:\n",
    "            return(match)\n",
    "\n",
    "def colocar_comisiones (df,y):\n",
    "    for Oficial in y['Oficiales']:\n",
    "        #OficialObj = list(Oficial.values())[0]\n",
    "        nombre= Oficial['Nombre']\n",
    "        cuarteles= Oficial['Cuartel']\n",
    "        comisiones= Oficial['Comisiones']\n",
    "        vacaciones= Oficial['Vacaciones']\n",
    "        for cuartel in cuarteles:\n",
    "            df.loc[df['Oficiales']==nombre,get_date(df,cuartel)]='CTL'\n",
    "        for comision in comisiones:\n",
    "            df.loc[df['Oficiales']==nombre,get_date(df,comision)]='C'\n",
    "        for vacacion in vacaciones:\n",
    "            df.loc[df['Oficiales']==nombre,get_date(df,vacacion)]='A'\n",
    "    return df    "
   ]
  }
 ],
 "metadata": {
  "kernelspec": {
   "display_name": "Python 3",
   "language": "python",
   "name": "python3"
  },
  "language_info": {
   "codemirror_mode": {
    "name": "ipython",
    "version": 3
   },
   "file_extension": ".py",
   "mimetype": "text/x-python",
   "name": "python",
   "nbconvert_exporter": "python",
   "pygments_lexer": "ipython3",
   "version": "3.7.6"
  }
 },
 "nbformat": 4,
 "nbformat_minor": 4
}
