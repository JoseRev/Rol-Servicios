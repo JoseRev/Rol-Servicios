{
 "cells": [
  {
   "cell_type": "markdown",
   "metadata": {},
   "source": [
    "### <font color='blue'> Progama para Hacer el Rol de Servicios"
   ]
  },
  {
   "cell_type": "markdown",
   "metadata": {},
   "source": [
    "#### <font color='black'> Librerias requeridas"
   ]
  },
  {
   "cell_type": "code",
   "execution_count": 740,
   "metadata": {},
   "outputs": [],
   "source": [
    "from calendar import monthrange\n",
    "from datetime import datetime\n",
    "import pandas as pd\n",
    "import locale, calendar\n",
    "from stat import S_IREAD, S_IRGRP, S_IROTH\n",
    "from styleframe import StyleFrame, Styler, utils\n",
    "import shutil, queue, yaml"
   ]
  },
  {
   "cell_type": "markdown",
   "metadata": {},
   "source": [
    "#### <font color='blue'> Cargar el archivo con nombres de los oficiales y fechas de comisiones y svs. ctl."
   ]
  },
  {
   "cell_type": "code",
   "execution_count": 791,
   "metadata": {},
   "outputs": [],
   "source": [
    "with open(\"Relacion Oficiales Noviembre.yaml\",\"r\") as s:\n",
    "    y=yaml.safe_load(s)\n",
    "nombresOficiales=[Oficial['Nombre'] for Oficial in y['Oficiales']]\n",
    "\n",
    "totalOfs=len(nombresOficiales)"
   ]
  },
  {
   "cell_type": "markdown",
   "metadata": {},
   "source": [
    "#### <font color='blue'> Establecer la fecha del Rol, y crear la tabla preliminar"
   ]
  },
  {
   "cell_type": "code",
   "execution_count": 792,
   "metadata": {},
   "outputs": [
    {
     "data": {
      "text/html": [
       "<div>\n",
       "<style scoped>\n",
       "    .dataframe tbody tr th:only-of-type {\n",
       "        vertical-align: middle;\n",
       "    }\n",
       "\n",
       "    .dataframe tbody tr th {\n",
       "        vertical-align: top;\n",
       "    }\n",
       "\n",
       "    .dataframe thead th {\n",
       "        text-align: right;\n",
       "    }\n",
       "</style>\n",
       "<table border=\"1\" class=\"dataframe\">\n",
       "  <thead>\n",
       "    <tr style=\"text-align: right;\">\n",
       "      <th></th>\n",
       "      <th>Oficiales</th>\n",
       "      <th>01\\ndo.</th>\n",
       "      <th>02\\nlu.</th>\n",
       "      <th>03\\nma.</th>\n",
       "      <th>04\\nmi.</th>\n",
       "      <th>05\\nju.</th>\n",
       "      <th>06\\nvi.</th>\n",
       "      <th>07\\nsá.</th>\n",
       "      <th>08\\ndo.</th>\n",
       "      <th>09\\nlu.</th>\n",
       "      <th>...</th>\n",
       "      <th>21\\nsá.</th>\n",
       "      <th>22\\ndo.</th>\n",
       "      <th>23\\nlu.</th>\n",
       "      <th>24\\nma.</th>\n",
       "      <th>25\\nmi.</th>\n",
       "      <th>26\\nju.</th>\n",
       "      <th>27\\nvi.</th>\n",
       "      <th>28\\nsá.</th>\n",
       "      <th>29\\ndo.</th>\n",
       "      <th>30\\nlu.</th>\n",
       "    </tr>\n",
       "  </thead>\n",
       "  <tbody>\n",
       "    <tr>\n",
       "      <th>0</th>\n",
       "      <td>Cap. 1/o. I.C.E. Berenice Flores Mancilla</td>\n",
       "      <td></td>\n",
       "      <td></td>\n",
       "      <td></td>\n",
       "      <td></td>\n",
       "      <td></td>\n",
       "      <td></td>\n",
       "      <td></td>\n",
       "      <td></td>\n",
       "      <td></td>\n",
       "      <td>...</td>\n",
       "      <td></td>\n",
       "      <td></td>\n",
       "      <td></td>\n",
       "      <td></td>\n",
       "      <td></td>\n",
       "      <td></td>\n",
       "      <td></td>\n",
       "      <td></td>\n",
       "      <td></td>\n",
       "      <td></td>\n",
       "    </tr>\n",
       "    <tr>\n",
       "      <th>1</th>\n",
       "      <td>Cap. 1/o. I.C.E. Jaime Mendoza Soto</td>\n",
       "      <td></td>\n",
       "      <td>CTL</td>\n",
       "      <td></td>\n",
       "      <td></td>\n",
       "      <td></td>\n",
       "      <td></td>\n",
       "      <td></td>\n",
       "      <td></td>\n",
       "      <td></td>\n",
       "      <td>...</td>\n",
       "      <td></td>\n",
       "      <td></td>\n",
       "      <td></td>\n",
       "      <td></td>\n",
       "      <td></td>\n",
       "      <td></td>\n",
       "      <td></td>\n",
       "      <td></td>\n",
       "      <td></td>\n",
       "      <td></td>\n",
       "    </tr>\n",
       "    <tr>\n",
       "      <th>2</th>\n",
       "      <td>Cap. 1/o. I.C.E. Carlos Mendoza Sanchez</td>\n",
       "      <td></td>\n",
       "      <td></td>\n",
       "      <td></td>\n",
       "      <td></td>\n",
       "      <td></td>\n",
       "      <td></td>\n",
       "      <td>CTL</td>\n",
       "      <td></td>\n",
       "      <td></td>\n",
       "      <td>...</td>\n",
       "      <td></td>\n",
       "      <td></td>\n",
       "      <td></td>\n",
       "      <td></td>\n",
       "      <td></td>\n",
       "      <td></td>\n",
       "      <td></td>\n",
       "      <td></td>\n",
       "      <td></td>\n",
       "      <td></td>\n",
       "    </tr>\n",
       "    <tr>\n",
       "      <th>3</th>\n",
       "      <td>Tte. Trans. Luis Raymundo de Jesus Mixteco</td>\n",
       "      <td>C</td>\n",
       "      <td>C</td>\n",
       "      <td>C</td>\n",
       "      <td>C</td>\n",
       "      <td>C</td>\n",
       "      <td>C</td>\n",
       "      <td></td>\n",
       "      <td></td>\n",
       "      <td>CTL</td>\n",
       "      <td>...</td>\n",
       "      <td></td>\n",
       "      <td></td>\n",
       "      <td></td>\n",
       "      <td></td>\n",
       "      <td></td>\n",
       "      <td></td>\n",
       "      <td></td>\n",
       "      <td></td>\n",
       "      <td></td>\n",
       "      <td></td>\n",
       "    </tr>\n",
       "    <tr>\n",
       "      <th>4</th>\n",
       "      <td>Tte. Rep. Jose Luis Felix</td>\n",
       "      <td></td>\n",
       "      <td></td>\n",
       "      <td></td>\n",
       "      <td></td>\n",
       "      <td></td>\n",
       "      <td></td>\n",
       "      <td></td>\n",
       "      <td></td>\n",
       "      <td></td>\n",
       "      <td>...</td>\n",
       "      <td></td>\n",
       "      <td></td>\n",
       "      <td></td>\n",
       "      <td></td>\n",
       "      <td></td>\n",
       "      <td></td>\n",
       "      <td></td>\n",
       "      <td></td>\n",
       "      <td></td>\n",
       "      <td></td>\n",
       "    </tr>\n",
       "    <tr>\n",
       "      <th>5</th>\n",
       "      <td>Cap. 1/o. I.C.E. Fernando Alcantar Hernandez</td>\n",
       "      <td></td>\n",
       "      <td></td>\n",
       "      <td></td>\n",
       "      <td></td>\n",
       "      <td></td>\n",
       "      <td></td>\n",
       "      <td></td>\n",
       "      <td></td>\n",
       "      <td></td>\n",
       "      <td>...</td>\n",
       "      <td></td>\n",
       "      <td></td>\n",
       "      <td></td>\n",
       "      <td></td>\n",
       "      <td></td>\n",
       "      <td></td>\n",
       "      <td></td>\n",
       "      <td></td>\n",
       "      <td></td>\n",
       "      <td></td>\n",
       "    </tr>\n",
       "    <tr>\n",
       "      <th>6</th>\n",
       "      <td>Cap. 1/o. I.C.E. Rafael Espinoza Reyes</td>\n",
       "      <td>C</td>\n",
       "      <td></td>\n",
       "      <td></td>\n",
       "      <td>CTL</td>\n",
       "      <td></td>\n",
       "      <td></td>\n",
       "      <td></td>\n",
       "      <td></td>\n",
       "      <td></td>\n",
       "      <td>...</td>\n",
       "      <td></td>\n",
       "      <td></td>\n",
       "      <td></td>\n",
       "      <td></td>\n",
       "      <td></td>\n",
       "      <td></td>\n",
       "      <td></td>\n",
       "      <td></td>\n",
       "      <td></td>\n",
       "      <td></td>\n",
       "    </tr>\n",
       "  </tbody>\n",
       "</table>\n",
       "<p>7 rows × 31 columns</p>\n",
       "</div>"
      ],
      "text/plain": [
       "                                      Oficiales 01\\ndo. 02\\nlu. 03\\nma.  \\\n",
       "0     Cap. 1/o. I.C.E. Berenice Flores Mancilla                           \n",
       "1           Cap. 1/o. I.C.E. Jaime Mendoza Soto             CTL           \n",
       "2       Cap. 1/o. I.C.E. Carlos Mendoza Sanchez                           \n",
       "3    Tte. Trans. Luis Raymundo de Jesus Mixteco       C       C       C   \n",
       "4                     Tte. Rep. Jose Luis Felix                           \n",
       "5  Cap. 1/o. I.C.E. Fernando Alcantar Hernandez                           \n",
       "6        Cap. 1/o. I.C.E. Rafael Espinoza Reyes       C                   \n",
       "\n",
       "  04\\nmi. 05\\nju. 06\\nvi. 07\\nsá. 08\\ndo. 09\\nlu.  ... 21\\nsá. 22\\ndo.  \\\n",
       "0                                                  ...                   \n",
       "1                                                  ...                   \n",
       "2                             CTL                  ...                   \n",
       "3       C       C       C                     CTL  ...                   \n",
       "4                                                  ...                   \n",
       "5                                                  ...                   \n",
       "6     CTL                                          ...                   \n",
       "\n",
       "  23\\nlu. 24\\nma. 25\\nmi. 26\\nju. 27\\nvi. 28\\nsá. 29\\ndo. 30\\nlu.  \n",
       "0                                                                  \n",
       "1                                                                  \n",
       "2                                                                  \n",
       "3                                                                  \n",
       "4                                                                  \n",
       "5                                                                  \n",
       "6                                                                  \n",
       "\n",
       "[7 rows x 31 columns]"
      ]
     },
     "execution_count": 792,
     "metadata": {},
     "output_type": "execute_result"
    }
   ],
   "source": [
    "mes=11 \n",
    "año=2020\n",
    "df=None\n",
    "locale.setlocale(locale.LC_ALL, 'es_ES') #idioma Español\n",
    "diasMes=[datetime(año, mes, x+1).strftime(\"%d\\n%a\") for x in range(monthrange(año,mes)[1])]\n",
    "df=pd.DataFrame(columns=diasMes)\n",
    "df.insert(0, column='Oficiales', value=nombresOficiales)\n",
    "df=colocar_comisiones(df,y).fillna(\"\")\n",
    "df"
   ]
  },
  {
   "cell_type": "markdown",
   "metadata": {},
   "source": [
    "#### <font color='blue'> Asignar comisiones"
   ]
  },
  {
   "cell_type": "code",
   "execution_count": null,
   "metadata": {},
   "outputs": [],
   "source": []
  },
  {
   "cell_type": "markdown",
   "metadata": {},
   "source": [
    "### <font color='red'> Algoritmo para designar los servicios"
   ]
  },
  {
   "cell_type": "markdown",
   "metadata": {},
   "source": [
    "#### <font color='bluw'> Crear colas/queue"
   ]
  },
  {
   "cell_type": "code",
   "execution_count": null,
   "metadata": {},
   "outputs": [],
   "source": []
  },
  {
   "cell_type": "code",
   "execution_count": 793,
   "metadata": {},
   "outputs": [],
   "source": [
    "serviciosSD=[]\n",
    "for index,Oficial in enumerate(y['Oficiales']):\n",
    "    serviciosSD.append([Oficial['Servicios del mes anterior fin de semana'],len(y['Oficiales'])-index,Oficial['Nombre']])\n",
    "serviciosSD.sort()\n",
    "\n",
    "serviciosLV=[]\n",
    "for index,Oficial in enumerate(y['Oficiales']):\n",
    "    serviciosLV.append([Oficial['Servicios del mes anterior entresemana'],index,Oficial['Nombre']])\n",
    "serviciosLV.sort()\n"
   ]
  },
  {
   "cell_type": "markdown",
   "metadata": {},
   "source": [
    "#### <font color='bluw'> Designar fin de semana"
   ]
  },
  {
   "cell_type": "code",
   "execution_count": null,
   "metadata": {},
   "outputs": [],
   "source": []
  },
  {
   "cell_type": "code",
   "execution_count": 794,
   "metadata": {},
   "outputs": [],
   "source": [
    "dias = len(df.columns)\n",
    "\n",
    "for dia in range(1,dias): #avanzamos un dia hasta acompletar el mes\n",
    "    # Caso en el que es fin de semana (queue fin semana):\n",
    "    \n",
    "    if datetime(año, mes, dia).strftime(\"%A\") == 'sábado' or datetime(año, mes, dia).strftime(\"%A\") == 'domingo': \n",
    "        if VerCtl(df,dia)[0]==False: # (¿Hay alguien de cuartel?)\n",
    "            serviciosSD.sort()\n",
    "            Of_designado=serviciosSD.pop(0) # 1er Propuesta para el sv.\n",
    "            #¿Esta de comision? ¿Estuvo de servicio de Ctl ayer? ¿Estuvo ayer de otro sv?\n",
    "            if df.loc[df['Oficiales']==Of_designado[2],df.columns[dia]].item() == \"\" and df.loc[df['Oficiales']==Of_designado[2],df.columns[dia-1]].item() != 'CTL' and (df.loc[df['Oficiales']==Of_designado[2],df.columns[dia-1]].item() == \"\" or df.loc[df['Oficiales']==Of_designado[2],df.columns[dia-1]].item() == \"C\"):\n",
    "                df.loc[df['Oficiales']==Of_designado[2],df.columns[dia]] = Of_designado[0] + 1   # Se coloca en el rol, el sv a la persona designada, con anotacion de los números de servicios que lleva\n",
    "                serviciosSD.append([Of_designado[0]+1,Of_designado[1],Of_designado[2]]) # Se introduce al primer propuesto a la cola + 1 sv\n",
    "            #si el oficial designado no puede montar, nos vamos por el que sigue\n",
    "            else:\n",
    "                Of_designado2=serviciosSD.pop(0)\n",
    "                df.loc[df['Oficiales']==Of_designado2[2],df.columns[dia]] = Of_designado2[0] + 1   # Se coloca en el rol, el sv a la persona designada, con anotacion de los números de servicios que lleva\n",
    "                serviciosSD.append([Of_designado2[0]+1,Of_designado2[1],Of_designado2[2]]) # Se introduce al 2o propuesto a la cola + 1 sv\n",
    "                serviciosSD.append([Of_designado[0],Of_designado[1],Of_designado[2]]) # Se introduce al 1er propuesto a la cola sv\n",
    "        elif VerCtl(df,dia)[0]==True: # Si ya habia alguien de Ctl, le contamos su servicio\n",
    "            OfCtl=VerCtl(df,dia)[1]\n",
    "            indexCtl=elementInSubarray(serviciosSD, OfCtl)\n",
    "            serviciosSD[indexCtl][0]+=1\n",
    "        serviciosSD.sort()\n",
    "\n",
    "        \n",
    "     # Caso en el que es entre semana (queue entre semana):\n",
    "    elif datetime(año, mes, dia).strftime(\"%A\") != 'sábado' and datetime(año, mes, dia).strftime(\"%A\") != 'domingo': \n",
    "        if VerCtl(df,dia)[0]==False: # (¿Hay alguien de cuartel?)\n",
    "            serviciosLV.sort()\n",
    "            Of_designado=serviciosLV.pop(0) # 1er Propuesta para el sv.\n",
    "            #¿Esta de comision? ¿Estuvo de servicio de Ctl ayer? ¿Estuvo ayer de otro sv?\n",
    "            if df.loc[df['Oficiales']==Of_designado[2],df.columns[dia]].item() == \"\" and df.loc[df['Oficiales']==Of_designado[2],df.columns[dia-1]].item() != 'CTL' and (df.loc[df['Oficiales']==Of_designado[2],df.columns[dia-1]].item() == \"\" or df.loc[df['Oficiales']==Of_designado[2],df.columns[dia-1]].item() == \"C\"):\n",
    "                df.loc[df['Oficiales']==Of_designado[2],df.columns[dia]] = Of_designado[0] + 1   # Se coloca en el rol, el sv a la persona designada, con anotacion de los números de servicios que lleva\n",
    "                serviciosLV.append([Of_designado[0]+1,Of_designado[1],Of_designado[2]]) # Se introduce al primer propuesto a la cola + 1 sv\n",
    "            #si el oficial designado no puede montar, nos vamos por el que sigue\n",
    "            else:\n",
    "                Of_designado2=serviciosLV.pop(0)\n",
    "                df.loc[df['Oficiales']==Of_designado2[2],df.columns[dia]] = Of_designado2[0] + 1   # Se coloca en el rol, el sv a la persona designada, con anotacion de los números de servicios que lleva\n",
    "                serviciosLV.append([Of_designado2[0]+1,Of_designado2[1],Of_designado2[2]]) # Se introduce al 2o propuesto a la cola + 1 sv\n",
    "                serviciosLV.append([Of_designado[0],Of_designado[1],Of_designado[2]]) # Se introduce al 1er propuesto a la cola sv\n",
    "        elif VerCtl(df,dia)[0]==True: # Si ya habia alguien de Ctl, le contamos su servicio\n",
    "            OfCtl=VerCtl(df,dia)[1]\n",
    "            indexCtl=elementInSubarray(serviciosLV, OfCtl)\n",
    "            serviciosLV[indexCtl][0]+=1\n",
    "        serviciosLV.sort()"
   ]
  },
  {
   "cell_type": "code",
   "execution_count": null,
   "metadata": {},
   "outputs": [],
   "source": []
  },
  {
   "cell_type": "code",
   "execution_count": 797,
   "metadata": {},
   "outputs": [
    {
     "data": {
      "text/plain": [
       "[[2, 6, 'Cap. 1/o. I.C.E. Rafael Espinoza Reyes'],\n",
       " [3, 1, 'Cap. 1/o. I.C.E. Jaime Mendoza Soto'],\n",
       " [3, 2, 'Cap. 1/o. I.C.E. Carlos Mendoza Sanchez'],\n",
       " [3, 3, 'Tte. Trans. Luis Raymundo de Jesus Mixteco'],\n",
       " [3, 4, 'Tte. Rep. Jose Luis Felix'],\n",
       " [3, 5, 'Cap. 1/o. I.C.E. Fernando Alcantar Hernandez'],\n",
       " [4, 0, 'Cap. 1/o. I.C.E. Berenice Flores Mancilla']]"
      ]
     },
     "execution_count": 797,
     "metadata": {},
     "output_type": "execute_result"
    }
   ],
   "source": [
    "serviciosLV"
   ]
  },
  {
   "cell_type": "code",
   "execution_count": 796,
   "metadata": {},
   "outputs": [
    {
     "data": {
      "text/plain": [
       "[[1, 3, 'Tte. Rep. Jose Luis Felix'],\n",
       " [1, 4, 'Tte. Trans. Luis Raymundo de Jesus Mixteco'],\n",
       " [1, 5, 'Cap. 1/o. I.C.E. Carlos Mendoza Sanchez'],\n",
       " [1, 6, 'Cap. 1/o. I.C.E. Jaime Mendoza Soto'],\n",
       " [1, 7, 'Cap. 1/o. I.C.E. Berenice Flores Mancilla'],\n",
       " [2, 1, 'Cap. 1/o. I.C.E. Rafael Espinoza Reyes'],\n",
       " [2, 2, 'Cap. 1/o. I.C.E. Fernando Alcantar Hernandez']]"
      ]
     },
     "execution_count": 796,
     "metadata": {},
     "output_type": "execute_result"
    }
   ],
   "source": [
    "serviciosSD"
   ]
  },
  {
   "cell_type": "code",
   "execution_count": null,
   "metadata": {},
   "outputs": [],
   "source": []
  },
  {
   "cell_type": "code",
   "execution_count": null,
   "metadata": {},
   "outputs": [],
   "source": []
  },
  {
   "cell_type": "code",
   "execution_count": null,
   "metadata": {},
   "outputs": [],
   "source": []
  },
  {
   "cell_type": "markdown",
   "metadata": {},
   "source": [
    "#### <font color='blue'> Guardar los archivos en EXCEL"
   ]
  },
  {
   "cell_type": "code",
   "execution_count": 795,
   "metadata": {},
   "outputs": [],
   "source": [
    "sf=StyleFrame(df)\n",
    "sf.to_excel(excel_writer='Rol Dic.xlsx', best_fit=list(df.columns), index=False).save()"
   ]
  },
  {
   "cell_type": "code",
   "execution_count": null,
   "metadata": {},
   "outputs": [],
   "source": []
  },
  {
   "cell_type": "code",
   "execution_count": null,
   "metadata": {},
   "outputs": [],
   "source": []
  },
  {
   "cell_type": "markdown",
   "metadata": {},
   "source": [
    "#### <font color='blue'> Funciones del Sistema"
   ]
  },
  {
   "cell_type": "code",
   "execution_count": 485,
   "metadata": {},
   "outputs": [],
   "source": [
    "#funcion para verificar si no hay alguien de ctl\n",
    "def VerCtl(df,dia):\n",
    "    AlguienCtl=False\n",
    "    for x in range(totalOfs):\n",
    "        if df.iloc[x,dia]=='CTL':\n",
    "            AlguienCtl=True\n",
    "            nombreCtl=df.iloc[x,0]\n",
    "            return [AlguienCtl,nombreCtl]\n",
    "    return [AlguienCtl,None]"
   ]
  },
  {
   "cell_type": "code",
   "execution_count": 564,
   "metadata": {},
   "outputs": [],
   "source": [
    "def elementInSubarray(array, string1):\n",
    "    for x in array:\n",
    "        if string1 in x:\n",
    "            return array.index(x)\n",
    "    \n",
    "#elementInSubarray(serviciosLV,'Cap. 1/o. I.C.E. Jaime Mendoza Soto')"
   ]
  },
  {
   "cell_type": "code",
   "execution_count": 430,
   "metadata": {},
   "outputs": [],
   "source": [
    "#Funcion para obtener la fecha para utilizarse en el .loc de acuerdo a las comisiones nombradas\n",
    "def get_date(df,dia):\n",
    "    for match in list(df.columns):\n",
    "        if str(int(dia)).zfill(2) in match:\n",
    "            return(match)\n",
    "\n",
    "def colocar_comisiones (df,y):\n",
    "    for Oficial in y['Oficiales']:\n",
    "        #OficialObj = list(Oficial.values())[0]\n",
    "        nombre= Oficial['Nombre']\n",
    "        cuarteles= Oficial['Cuartel']\n",
    "        comisiones= Oficial['Comisiones']\n",
    "        vacaciones= Oficial['Vacaciones']\n",
    "        for cuartel in cuarteles:\n",
    "            df.loc[df['Oficiales']==nombre,get_date(df,cuartel)]='CTL'\n",
    "        for comision in comisiones:\n",
    "            df.loc[df['Oficiales']==nombre,get_date(df,comision)]='C'\n",
    "        for vacacion in vacaciones:\n",
    "            df.loc[df['Oficiales']==nombre,get_date(df,vacacion)]='A'\n",
    "    return df    "
   ]
  }
 ],
 "metadata": {
  "kernelspec": {
   "display_name": "Python 3",
   "language": "python",
   "name": "python3"
  },
  "language_info": {
   "codemirror_mode": {
    "name": "ipython",
    "version": 3
   },
   "file_extension": ".py",
   "mimetype": "text/x-python",
   "name": "python",
   "nbconvert_exporter": "python",
   "pygments_lexer": "ipython3",
   "version": "3.7.6"
  }
 },
 "nbformat": 4,
 "nbformat_minor": 4
}
