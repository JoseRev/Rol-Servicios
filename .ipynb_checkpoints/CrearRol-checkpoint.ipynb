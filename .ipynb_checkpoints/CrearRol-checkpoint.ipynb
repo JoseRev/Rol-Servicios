{
 "cells": [
  {
   "cell_type": "markdown",
   "metadata": {},
   "source": [
    "### <font color='blue'> Progama para Hacer el Rol de Servicios"
   ]
  },
  {
   "cell_type": "markdown",
   "metadata": {},
   "source": [
    "#### <font color='black'> Librerias requeridas"
   ]
  },
  {
   "cell_type": "code",
   "execution_count": 394,
   "metadata": {},
   "outputs": [],
   "source": [
    "from calendar import monthrange\n",
    "from datetime import datetime\n",
    "import pandas as pd\n",
    "import locale, calendar\n",
    "from stat import S_IREAD, S_IRGRP, S_IROTH\n",
    "from styleframe import StyleFrame, Styler, utils\n",
    "import shutil, queue, yaml"
   ]
  },
  {
   "cell_type": "markdown",
   "metadata": {},
   "source": [
    "#### <font color='blue'> Cargar el archivo con nombres de los oficiales y fechas de comisiones y svs. ctl."
   ]
  },
  {
   "cell_type": "code",
   "execution_count": 432,
   "metadata": {},
   "outputs": [],
   "source": [
    "with open(\"Relacion Oficiales.yaml\",\"r\") as s:\n",
    "    y=yaml.safe_load(s)\n",
    "nombreOficiales=[Oficial['Nombre'] for Oficial in y['Oficiales']]\n",
    "totalOfs=len(nombresOficiales)"
   ]
  },
  {
   "cell_type": "markdown",
   "metadata": {},
   "source": [
    "#### <font color='blue'> Establecer la fecha del Rol, y crear la tabla preliminar"
   ]
  },
  {
   "cell_type": "code",
   "execution_count": 404,
   "metadata": {
    "collapsed": true
   },
   "outputs": [
    {
     "data": {
      "text/html": [
       "<div>\n",
       "<style scoped>\n",
       "    .dataframe tbody tr th:only-of-type {\n",
       "        vertical-align: middle;\n",
       "    }\n",
       "\n",
       "    .dataframe tbody tr th {\n",
       "        vertical-align: top;\n",
       "    }\n",
       "\n",
       "    .dataframe thead th {\n",
       "        text-align: right;\n",
       "    }\n",
       "</style>\n",
       "<table border=\"1\" class=\"dataframe\">\n",
       "  <thead>\n",
       "    <tr style=\"text-align: right;\">\n",
       "      <th></th>\n",
       "      <th>Oficiales</th>\n",
       "      <th>01\\ndo.</th>\n",
       "      <th>02\\nlu.</th>\n",
       "      <th>03\\nma.</th>\n",
       "      <th>04\\nmi.</th>\n",
       "      <th>05\\nju.</th>\n",
       "      <th>06\\nvi.</th>\n",
       "      <th>07\\nsá.</th>\n",
       "      <th>08\\ndo.</th>\n",
       "      <th>09\\nlu.</th>\n",
       "      <th>...</th>\n",
       "      <th>21\\nsá.</th>\n",
       "      <th>22\\ndo.</th>\n",
       "      <th>23\\nlu.</th>\n",
       "      <th>24\\nma.</th>\n",
       "      <th>25\\nmi.</th>\n",
       "      <th>26\\nju.</th>\n",
       "      <th>27\\nvi.</th>\n",
       "      <th>28\\nsá.</th>\n",
       "      <th>29\\ndo.</th>\n",
       "      <th>30\\nlu.</th>\n",
       "    </tr>\n",
       "  </thead>\n",
       "  <tbody>\n",
       "    <tr>\n",
       "      <th>0</th>\n",
       "      <td>Cap. 1/o. I.C.E. Jose Luis Revilla Manzur</td>\n",
       "      <td>NaN</td>\n",
       "      <td>NaN</td>\n",
       "      <td>NaN</td>\n",
       "      <td>NaN</td>\n",
       "      <td>NaN</td>\n",
       "      <td>NaN</td>\n",
       "      <td>NaN</td>\n",
       "      <td>NaN</td>\n",
       "      <td>NaN</td>\n",
       "      <td>...</td>\n",
       "      <td>NaN</td>\n",
       "      <td>NaN</td>\n",
       "      <td>NaN</td>\n",
       "      <td>NaN</td>\n",
       "      <td>NaN</td>\n",
       "      <td>NaN</td>\n",
       "      <td>NaN</td>\n",
       "      <td>NaN</td>\n",
       "      <td>NaN</td>\n",
       "      <td>NaN</td>\n",
       "    </tr>\n",
       "    <tr>\n",
       "      <th>1</th>\n",
       "      <td>Cap. 1/o. I.C.E. Jaime Mendoza Soto</td>\n",
       "      <td>NaN</td>\n",
       "      <td>NaN</td>\n",
       "      <td>NaN</td>\n",
       "      <td>NaN</td>\n",
       "      <td>NaN</td>\n",
       "      <td>NaN</td>\n",
       "      <td>NaN</td>\n",
       "      <td>NaN</td>\n",
       "      <td>NaN</td>\n",
       "      <td>...</td>\n",
       "      <td>NaN</td>\n",
       "      <td>NaN</td>\n",
       "      <td>NaN</td>\n",
       "      <td>NaN</td>\n",
       "      <td>NaN</td>\n",
       "      <td>NaN</td>\n",
       "      <td>NaN</td>\n",
       "      <td>NaN</td>\n",
       "      <td>NaN</td>\n",
       "      <td>NaN</td>\n",
       "    </tr>\n",
       "    <tr>\n",
       "      <th>2</th>\n",
       "      <td>Cap. 1/o. I.C.E. Carlos Mendoza Sanchez</td>\n",
       "      <td>NaN</td>\n",
       "      <td>NaN</td>\n",
       "      <td>NaN</td>\n",
       "      <td>NaN</td>\n",
       "      <td>NaN</td>\n",
       "      <td>NaN</td>\n",
       "      <td>NaN</td>\n",
       "      <td>NaN</td>\n",
       "      <td>NaN</td>\n",
       "      <td>...</td>\n",
       "      <td>NaN</td>\n",
       "      <td>NaN</td>\n",
       "      <td>NaN</td>\n",
       "      <td>NaN</td>\n",
       "      <td>NaN</td>\n",
       "      <td>NaN</td>\n",
       "      <td>NaN</td>\n",
       "      <td>NaN</td>\n",
       "      <td>NaN</td>\n",
       "      <td>NaN</td>\n",
       "    </tr>\n",
       "    <tr>\n",
       "      <th>3</th>\n",
       "      <td>Tte. Trans. Luis Raymundo de Jesus Mixteco</td>\n",
       "      <td>NaN</td>\n",
       "      <td>NaN</td>\n",
       "      <td>NaN</td>\n",
       "      <td>NaN</td>\n",
       "      <td>NaN</td>\n",
       "      <td>NaN</td>\n",
       "      <td>NaN</td>\n",
       "      <td>NaN</td>\n",
       "      <td>NaN</td>\n",
       "      <td>...</td>\n",
       "      <td>NaN</td>\n",
       "      <td>NaN</td>\n",
       "      <td>NaN</td>\n",
       "      <td>NaN</td>\n",
       "      <td>NaN</td>\n",
       "      <td>NaN</td>\n",
       "      <td>NaN</td>\n",
       "      <td>NaN</td>\n",
       "      <td>NaN</td>\n",
       "      <td>NaN</td>\n",
       "    </tr>\n",
       "    <tr>\n",
       "      <th>4</th>\n",
       "      <td>Tte. Rep. Jose Luis Felix</td>\n",
       "      <td>NaN</td>\n",
       "      <td>NaN</td>\n",
       "      <td>NaN</td>\n",
       "      <td>NaN</td>\n",
       "      <td>NaN</td>\n",
       "      <td>NaN</td>\n",
       "      <td>NaN</td>\n",
       "      <td>NaN</td>\n",
       "      <td>NaN</td>\n",
       "      <td>...</td>\n",
       "      <td>NaN</td>\n",
       "      <td>NaN</td>\n",
       "      <td>NaN</td>\n",
       "      <td>NaN</td>\n",
       "      <td>NaN</td>\n",
       "      <td>NaN</td>\n",
       "      <td>NaN</td>\n",
       "      <td>NaN</td>\n",
       "      <td>NaN</td>\n",
       "      <td>NaN</td>\n",
       "    </tr>\n",
       "    <tr>\n",
       "      <th>5</th>\n",
       "      <td>Cap. 1/o. I.C.E. Fernando Alcantar Hernandez</td>\n",
       "      <td>NaN</td>\n",
       "      <td>NaN</td>\n",
       "      <td>NaN</td>\n",
       "      <td>NaN</td>\n",
       "      <td>NaN</td>\n",
       "      <td>NaN</td>\n",
       "      <td>NaN</td>\n",
       "      <td>NaN</td>\n",
       "      <td>NaN</td>\n",
       "      <td>...</td>\n",
       "      <td>NaN</td>\n",
       "      <td>NaN</td>\n",
       "      <td>NaN</td>\n",
       "      <td>NaN</td>\n",
       "      <td>NaN</td>\n",
       "      <td>NaN</td>\n",
       "      <td>NaN</td>\n",
       "      <td>NaN</td>\n",
       "      <td>NaN</td>\n",
       "      <td>NaN</td>\n",
       "    </tr>\n",
       "    <tr>\n",
       "      <th>6</th>\n",
       "      <td>Cap. 1/o. I.C.E. Rafael Espinoza Reyes</td>\n",
       "      <td>NaN</td>\n",
       "      <td>NaN</td>\n",
       "      <td>NaN</td>\n",
       "      <td>NaN</td>\n",
       "      <td>NaN</td>\n",
       "      <td>NaN</td>\n",
       "      <td>NaN</td>\n",
       "      <td>NaN</td>\n",
       "      <td>NaN</td>\n",
       "      <td>...</td>\n",
       "      <td>NaN</td>\n",
       "      <td>NaN</td>\n",
       "      <td>NaN</td>\n",
       "      <td>NaN</td>\n",
       "      <td>NaN</td>\n",
       "      <td>NaN</td>\n",
       "      <td>NaN</td>\n",
       "      <td>NaN</td>\n",
       "      <td>NaN</td>\n",
       "      <td>NaN</td>\n",
       "    </tr>\n",
       "  </tbody>\n",
       "</table>\n",
       "<p>7 rows × 31 columns</p>\n",
       "</div>"
      ],
      "text/plain": [
       "                                      Oficiales 01\\ndo. 02\\nlu. 03\\nma.  \\\n",
       "0     Cap. 1/o. I.C.E. Jose Luis Revilla Manzur     NaN     NaN     NaN   \n",
       "1           Cap. 1/o. I.C.E. Jaime Mendoza Soto     NaN     NaN     NaN   \n",
       "2       Cap. 1/o. I.C.E. Carlos Mendoza Sanchez     NaN     NaN     NaN   \n",
       "3    Tte. Trans. Luis Raymundo de Jesus Mixteco     NaN     NaN     NaN   \n",
       "4                     Tte. Rep. Jose Luis Felix     NaN     NaN     NaN   \n",
       "5  Cap. 1/o. I.C.E. Fernando Alcantar Hernandez     NaN     NaN     NaN   \n",
       "6        Cap. 1/o. I.C.E. Rafael Espinoza Reyes     NaN     NaN     NaN   \n",
       "\n",
       "  04\\nmi. 05\\nju. 06\\nvi. 07\\nsá. 08\\ndo. 09\\nlu.  ... 21\\nsá. 22\\ndo.  \\\n",
       "0     NaN     NaN     NaN     NaN     NaN     NaN  ...     NaN     NaN   \n",
       "1     NaN     NaN     NaN     NaN     NaN     NaN  ...     NaN     NaN   \n",
       "2     NaN     NaN     NaN     NaN     NaN     NaN  ...     NaN     NaN   \n",
       "3     NaN     NaN     NaN     NaN     NaN     NaN  ...     NaN     NaN   \n",
       "4     NaN     NaN     NaN     NaN     NaN     NaN  ...     NaN     NaN   \n",
       "5     NaN     NaN     NaN     NaN     NaN     NaN  ...     NaN     NaN   \n",
       "6     NaN     NaN     NaN     NaN     NaN     NaN  ...     NaN     NaN   \n",
       "\n",
       "  23\\nlu. 24\\nma. 25\\nmi. 26\\nju. 27\\nvi. 28\\nsá. 29\\ndo. 30\\nlu.  \n",
       "0     NaN     NaN     NaN     NaN     NaN     NaN     NaN     NaN  \n",
       "1     NaN     NaN     NaN     NaN     NaN     NaN     NaN     NaN  \n",
       "2     NaN     NaN     NaN     NaN     NaN     NaN     NaN     NaN  \n",
       "3     NaN     NaN     NaN     NaN     NaN     NaN     NaN     NaN  \n",
       "4     NaN     NaN     NaN     NaN     NaN     NaN     NaN     NaN  \n",
       "5     NaN     NaN     NaN     NaN     NaN     NaN     NaN     NaN  \n",
       "6     NaN     NaN     NaN     NaN     NaN     NaN     NaN     NaN  \n",
       "\n",
       "[7 rows x 31 columns]"
      ]
     },
     "execution_count": 404,
     "metadata": {},
     "output_type": "execute_result"
    }
   ],
   "source": [
    "mes=11 \n",
    "año=2020\n",
    "\n",
    "locale.setlocale(locale.LC_ALL, 'es_ES') #idioma Español\n",
    "diasMes=[datetime(año, mes, x+1).strftime(\"%d\\n%a\") for x in range(monthrange(año,mes)[1])]\n",
    "df=pd.DataFrame(columns=diasMes)\n",
    "df.insert(0, column='Oficiales', value=nombresOficiales)\n",
    "df=colocar_comisiones(df,y)\n",
    "df"
   ]
  },
  {
   "cell_type": "markdown",
   "metadata": {},
   "source": [
    "#### <font color='blue'> Asignar comisiones"
   ]
  },
  {
   "cell_type": "code",
   "execution_count": null,
   "metadata": {},
   "outputs": [],
   "source": []
  },
  {
   "cell_type": "code",
   "execution_count": null,
   "metadata": {},
   "outputs": [],
   "source": []
  },
  {
   "cell_type": "code",
   "execution_count": null,
   "metadata": {},
   "outputs": [],
   "source": []
  },
  {
   "cell_type": "code",
   "execution_count": null,
   "metadata": {},
   "outputs": [],
   "source": []
  },
  {
   "cell_type": "markdown",
   "metadata": {},
   "source": [
    "#### <font color='blue'> Funciones del Sistema"
   ]
  },
  {
   "cell_type": "code",
   "execution_count": 430,
   "metadata": {},
   "outputs": [],
   "source": [
    "#Funcion para obtener la fecha para utilizarse en el .loc de acuerdo a las comisiones nombradas\n",
    "def get_date(df,dia):\n",
    "    for match in list(df.columns):\n",
    "        if str(int(dia)).zfill(2) in match:\n",
    "            return(match)\n",
    "\n",
    "def colocar_comisiones (df,y):\n",
    "    for Oficial in y['Oficiales']:\n",
    "        #OficialObj = list(Oficial.values())[0]\n",
    "        nombre= Oficial['Nombre']\n",
    "        cuarteles= Oficial['Cuartel']\n",
    "        comisiones= Oficial['Comisiones']\n",
    "        vacaciones= Oficial['Vacaciones']\n",
    "        for cuartel in cuarteles:\n",
    "            df.loc[df['Oficiales']==nombre,get_date(df,cuartel)]='CTL'\n",
    "        for comision in comisiones:\n",
    "            df.loc[df['Oficiales']==nombre,get_date(df,comision)]='C'\n",
    "        for vacacion in vacaciones:\n",
    "            df.loc[df['Oficiales']==nombre,get_date(df,vacacion)]='A'\n",
    "    return df    "
   ]
  },
  {
   "cell_type": "code",
   "execution_count": null,
   "metadata": {},
   "outputs": [],
   "source": []
  },
  {
   "cell_type": "code",
   "execution_count": null,
   "metadata": {},
   "outputs": [],
   "source": []
  },
  {
   "cell_type": "code",
   "execution_count": null,
   "metadata": {},
   "outputs": [],
   "source": []
  },
  {
   "cell_type": "markdown",
   "metadata": {},
   "source": [
    "#### <font color='blue'> Algoritmo para designar los servicios"
   ]
  },
  {
   "cell_type": "code",
   "execution_count": 429,
   "metadata": {},
   "outputs": [
    {
     "data": {
      "text/plain": [
       "[[0, 0, 'Cap. 1/o. I.C.E. Jose Luis Revilla Manzur'],\n",
       " [0, 1, 'Cap. 1/o. I.C.E. Jaime Mendoza Soto'],\n",
       " [0, 2, 'Cap. 1/o. I.C.E. Carlos Mendoza Sanchez'],\n",
       " [0, 3, 'Tte. Trans. Luis Raymundo de Jesus Mixteco'],\n",
       " [0, 4, 'Tte. Rep. Jose Luis Felix'],\n",
       " [0, 5, 'Cap. 1/o. I.C.E. Fernando Alcantar Hernandez'],\n",
       " [-1, 6, 'Cap. 1/o. I.C.E. Rafael Espinoza Reyes']]"
      ]
     },
     "execution_count": 429,
     "metadata": {},
     "output_type": "execute_result"
    }
   ],
   "source": [
    "serviciosLV=[]\n",
    "for index,Oficial in enumerate(y['Oficiales']):\n",
    "    serviciosLV.append([Oficial['Servicios Pendientes'],index,Oficial['Nombre']])\n",
    "serviciosLV"
   ]
  },
  {
   "cell_type": "code",
   "execution_count": 463,
   "metadata": {
    "collapsed": true
   },
   "outputs": [
    {
     "ename": "SyntaxError",
     "evalue": "invalid syntax (<ipython-input-463-dea26cec1efb>, line 14)",
     "output_type": "error",
     "traceback": [
      "\u001b[1;36m  File \u001b[1;32m\"<ipython-input-463-dea26cec1efb>\"\u001b[1;36m, line \u001b[1;32m14\u001b[0m\n\u001b[1;33m    Agregar el servicio de ctl a quien le tocó\u001b[0m\n\u001b[1;37m             ^\u001b[0m\n\u001b[1;31mSyntaxError\u001b[0m\u001b[1;31m:\u001b[0m invalid syntax\n"
     ]
    }
   ],
   "source": [
    "dias = len(df.columns)\n",
    "for dia in range(2,dias): #rotando filas del rol (dia uno)\n",
    "    if VerCtl(df,dia)[0]==False:#dia is empty (No cuartel)\n",
    "        Of_designado=servicioLV.pop()\n",
    "\n",
    "        df.ix[df['Nombre']==Of_designado[2],dia] = Of_designado[0]   #asignamos a alguien\n",
    "        servicioLV.append([Of_designado[0]+1,Of_designado[1],Of_designado[2]])\n",
    "        servicioLV.sort()\n",
    "        \n",
    "        df.loc [q[0].nombre]=q[0].NumServicio+1\n",
    "        q[0].NumServiocio+=1\n",
    "        q.sort\n",
    "    else:\n",
    "        Agregar el servicio de ctl a quien le tocó\n",
    "    # df[revilla, dia1]== "
   ]
  },
  {
   "cell_type": "code",
   "execution_count": 485,
   "metadata": {},
   "outputs": [],
   "source": [
    "#funcion para verificar si no hay alguien de ctl\n",
    "def VerCtl(df,dia):\n",
    "    AlguienCtl=False\n",
    "    for x in range(totalOfs):\n",
    "        if df.iloc[x,dia]=='CTL':\n",
    "            AlguienCtl=True\n",
    "            nombreCtl=df.iloc[x,0]\n",
    "            return [AlguienCtl,nombreCtl]\n",
    "    return [AlguienCtl,None]"
   ]
  },
  {
   "cell_type": "code",
   "execution_count": null,
   "metadata": {},
   "outputs": [],
   "source": []
  },
  {
   "cell_type": "code",
   "execution_count": null,
   "metadata": {},
   "outputs": [],
   "source": []
  },
  {
   "cell_type": "code",
   "execution_count": null,
   "metadata": {},
   "outputs": [],
   "source": []
  },
  {
   "cell_type": "code",
   "execution_count": null,
   "metadata": {},
   "outputs": [],
   "source": []
  },
  {
   "cell_type": "code",
   "execution_count": null,
   "metadata": {},
   "outputs": [],
   "source": []
  },
  {
   "cell_type": "code",
   "execution_count": null,
   "metadata": {},
   "outputs": [],
   "source": []
  },
  {
   "cell_type": "code",
   "execution_count": null,
   "metadata": {},
   "outputs": [],
   "source": []
  },
  {
   "cell_type": "markdown",
   "metadata": {},
   "source": [
    "#### <font color='blue'> Guardar los archivos en EXCEL"
   ]
  },
  {
   "cell_type": "code",
   "execution_count": 406,
   "metadata": {},
   "outputs": [],
   "source": [
    "sf=StyleFrame(df)\n",
    "sf.to_excel(excel_writer='Rol Dic.xlsx', best_fit=list(df.columns), index=False).save()"
   ]
  },
  {
   "cell_type": "code",
   "execution_count": null,
   "metadata": {},
   "outputs": [],
   "source": []
  },
  {
   "cell_type": "code",
   "execution_count": null,
   "metadata": {},
   "outputs": [],
   "source": []
  }
 ],
 "metadata": {
  "kernelspec": {
   "display_name": "Python 3",
   "language": "python",
   "name": "python3"
  },
  "language_info": {
   "codemirror_mode": {
    "name": "ipython",
    "version": 3
   },
   "file_extension": ".py",
   "mimetype": "text/x-python",
   "name": "python",
   "nbconvert_exporter": "python",
   "pygments_lexer": "ipython3",
   "version": "3.7.6"
  }
 },
 "nbformat": 4,
 "nbformat_minor": 4
}
